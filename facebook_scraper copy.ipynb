{
 "cells": [
  {
   "cell_type": "code",
   "execution_count": 2,
   "id": "9ddd28d1",
   "metadata": {},
   "outputs": [],
   "source": [
    "from selenium import webdriver\n",
    "from selenium.webdriver.common.keys import Keys\n",
    "from selenium.webdriver.support import expected_conditions as EC\n",
    "from selenium.webdriver.common.by import By\n",
    "from selenium.webdriver.support.wait import WebDriverWait\n",
    "from selenium.webdriver.support import expected_conditions as EC\n",
    "import os\n",
    "import wget\n",
    "import time\n",
    "import json\n",
    "import pprint\n",
    "import csv"
   ]
  },
  {
   "cell_type": "code",
   "execution_count": 3,
   "id": "e2db4abc",
   "metadata": {
    "scrolled": true
   },
   "outputs": [],
   "source": [
    "chrome_options = webdriver.ChromeOptions()\n",
    "prefs = {\"profile.default_content_setting_values.notifications\" : 2}\n",
    "chrome_options.add_experimental_option(\"prefs\",prefs)\n",
    "\n",
    "\n",
    "#specify the path to chromedriver.exe (download and save on your computer)\n",
    "driver = webdriver.Chrome('C:/Users/maglo/chromedriver.exe',options=chrome_options)\n",
    "\n",
    "wait = WebDriverWait(driver, 10)\n",
    "#open the webpage ( I am using the mobile.facebook because it has less functionalilty so it will be \"harder\" for facebook bot to track us?!)\n",
    "driver.get(\"https://mobile.facebook.com/groups_browse/your_groups\", )\n"
   ]
  },
  {
   "cell_type": "code",
   "execution_count": 4,
   "id": "0ebfb94e",
   "metadata": {},
   "outputs": [],
   "source": [
    "\n",
    "\n",
    "\n",
    "#click the login button\n",
    "Clikclogin = button = WebDriverWait(driver, 5).until(EC.element_to_be_clickable((By.CSS_SELECTOR, \"a[role='button']\"))).click()\n",
    "driver.implicitly_wait(10)\n",
    "\n",
    "#target username\n",
    "username = WebDriverWait(driver, 10).until(EC.element_to_be_clickable((By.CSS_SELECTOR, \"input[name='email']\")))\n",
    "password = WebDriverWait(driver, 10).until(EC.element_to_be_clickable((By.CSS_SELECTOR, \"input[name='pass']\")))\n",
    "\n",
    "#enter username and password (don't worry I made this facebook account just for doing the scrawling and and collecting data)\n",
    "username.clear()\n",
    "username.send_keys(\"info.sensmart@gmail.com\")\n",
    "password.clear()\n",
    "password.send_keys(\"19734682\")\n",
    "\n",
    "driver.implicitly_wait(10)\n",
    "#target the login button and click it\n",
    "button = WebDriverWait(driver, 2).until(EC.element_to_be_clickable((By.CSS_SELECTOR, \"button[type='button']\"))).click()\n",
    "\n",
    "links = []\n",
    "titles = []\n",
    "\n",
    "\n",
    "element = driver.find_element(By.CLASS_NAME, \"_7hkg\").get_attribute('href')\n",
    "\n",
    "driver.implicitly_wait(10)\n",
    "time. sleep(5)\n",
    "\n",
    "#I was worried that the webdrive would not identify the different page, so I had to wait and press the \"END\" Key multiple times\n",
    "webdriver.ActionChains(driver).key_down(Keys.END).perform()\n",
    "time. sleep(3)\n",
    "webdriver.ActionChains(driver).key_down(Keys.END).perform()\n",
    "time. sleep(3)\n",
    "webdriver.ActionChains(driver).key_down(Keys.END).perform()\n",
    "time. sleep(3)\n",
    "\n",
    "WebDriverWait(driver, 10).until(EC.element_to_be_clickable((By.CLASS_NAME, \"_7hkg\")))\n",
    "\n",
    "\n",
    "#\"_7hjkg\" is the class name of the in the HTML file\n",
    "link = driver.find_elements(By.CLASS_NAME, \"_7hkg\")\n",
    "for e in link:\n",
    "    a = e.get_attribute('href')\n",
    "    if (a != None):\n",
    "        links.append(a)\n",
    "        \n",
    "\n",
    "title = driver.find_elements(By.CLASS, //div[@class='h3z9dlai ld7irhx5 pbevjfx6 igjjae4c']\")\n",
    "\n",
    "for f in title:\n",
    "    c = f.text\n",
    "    if (c != None):\n",
    "        titles.append(c)\n",
    "\n",
    "\n",
    "\n",
    "\n",
    "\n",
    "\n",
    "\n",
    "\n",
    "\n",
    "#Now need to find a way to to collect the posts from the groups in the json file"
   ]
  },
  {
   "cell_type": "code",
   "execution_count": null,
   "id": "75eade7f",
   "metadata": {},
   "outputs": [],
   "source": [
    "price = \"_4guw\"\n",
    "title=\"_4gus\""
   ]
  },
  {
   "cell_type": "code",
   "execution_count": null,
   "id": "99d2d086",
   "metadata": {},
   "outputs": [],
   "source": [
    "with open('a.csv', 'w', newline='', encoding='utf-8') as csvfile:\n",
    "    fieldnames = [ 'Group Name', 'Links']\n",
    "\n",
    "    thewriter = csv.DictWriter(csvfile, fieldnames=fieldnames)\n",
    "    thewriter.writeheader()\n",
    "\n",
    "    for a in range(len(t)):\n",
    "        thewriter.writerow({'Group Name': t[a], 'Links': l[a]})\n"
   ]
  }
 ],
 "metadata": {
  "kernelspec": {
   "display_name": "Python 3 (ipykernel)",
   "language": "python",
   "name": "python3"
  },
  "language_info": {
   "codemirror_mode": {
    "name": "ipython",
    "version": 3
   },
   "file_extension": ".py",
   "mimetype": "text/x-python",
   "name": "python",
   "nbconvert_exporter": "python",
   "pygments_lexer": "ipython3",
   "version": "3.7.11"
  }
 },
 "nbformat": 4,
 "nbformat_minor": 5
}
