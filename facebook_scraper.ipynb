{
 "cells": [
  {
   "cell_type": "code",
   "execution_count": 18,
   "id": "9ddd28d1",
   "metadata": {},
   "outputs": [],
   "source": [
    "from selenium import webdriver\n",
    "from selenium.webdriver.common.keys import Keys\n",
    "from selenium.webdriver.support import expected_conditions as EC\n",
    "from selenium.webdriver.common.by import By\n",
    "from selenium.webdriver.support.wait import WebDriverWait\n",
    "from selenium.webdriver.support import expected_conditions as EC\n",
    "import os\n",
    "import wget\n",
    "import time\n",
    "import json\n",
    "import pprint\n",
    "import csv"
   ]
  },
  {
   "cell_type": "code",
   "execution_count": 19,
   "id": "e2db4abc",
   "metadata": {
    "scrolled": true
   },
   "outputs": [],
   "source": [
    "chrome_options = webdriver.ChromeOptions()\n",
    "prefs = {\"profile.default_content_setting_values.notifications\" : 2}\n",
    "chrome_options.add_experimental_option(\"prefs\",prefs)\n",
    "\n",
    "\n",
    "#specify the path to chromedriver.exe (download and save on your computer)\n",
    "driver = webdriver.Chrome('C:/Users/maglo/chromedriver.exe',options=chrome_options)\n",
    "\n",
    "wait = WebDriverWait(driver, 10)\n",
    "#open the webpage ( I am using the mobile.facebook because it has less functionalilty so it will be \"harder\" for facebook bot to track us?!)\n",
    "driver.get(\"https://mobile.facebook.com/groups/480658072822702/?ref=group_browse\", )\n"
   ]
  },
  {
   "cell_type": "code",
   "execution_count": 20,
   "id": "0ebfb94e",
   "metadata": {},
   "outputs": [],
   "source": [
    "\n",
    "\n",
    "\n",
    "#click the login button\n",
    "Clikclogin = button = WebDriverWait(driver, 5).until(EC.element_to_be_clickable((By.CSS_SELECTOR, \"a[role='button']\"))).click()\n",
    "driver.implicitly_wait(10)\n",
    "\n",
    "#target username\n",
    "username = WebDriverWait(driver, 10).until(EC.element_to_be_clickable((By.CSS_SELECTOR, \"input[name='email']\")))\n",
    "password = WebDriverWait(driver, 10).until(EC.element_to_be_clickable((By.CSS_SELECTOR, \"input[name='pass']\")))\n",
    "\n",
    "#enter username and password (don't worry I made this facebook account just for doing the scrawling and and collecting data)\n",
    "username.clear()\n",
    "username.send_keys(\"info.sensmart@gmail.com\")\n",
    "password.clear()\n",
    "password.send_keys(\"19734682\")\n",
    "\n",
    "driver.implicitly_wait(10)\n",
    "#target the login button and click it\n",
    "button = WebDriverWait(driver, 2).until(EC.element_to_be_clickable((By.CSS_SELECTOR, \"button[type='button']\"))).click()\n",
    "#Now need to find a way to to collect the posts from the groups in the json file"
   ]
  },
  {
   "cell_type": "code",
   "execution_count": 21,
   "id": "b18eb480",
   "metadata": {},
   "outputs": [
    {
     "ename": "TimeoutException",
     "evalue": "Message: \n",
     "output_type": "error",
     "traceback": [
      "\u001b[1;31m---------------------------------------------------------------------------\u001b[0m",
      "\u001b[1;31mTimeoutException\u001b[0m                          Traceback (most recent call last)",
      "\u001b[1;32m~\\AppData\\Local\\Temp\\ipykernel_19164\\2452866872.py\u001b[0m in \u001b[0;36m<module>\u001b[1;34m\u001b[0m\n\u001b[1;32m----> 1\u001b[1;33m \u001b[0mSearch\u001b[0m\u001b[1;33m=\u001b[0m \u001b[0mbutton\u001b[0m \u001b[1;33m=\u001b[0m \u001b[0mWebDriverWait\u001b[0m\u001b[1;33m(\u001b[0m\u001b[0mdriver\u001b[0m\u001b[1;33m,\u001b[0m \u001b[1;36m5\u001b[0m\u001b[1;33m)\u001b[0m\u001b[1;33m.\u001b[0m\u001b[0muntil\u001b[0m\u001b[1;33m(\u001b[0m\u001b[0mEC\u001b[0m\u001b[1;33m.\u001b[0m\u001b[0melement_to_be_clickable\u001b[0m\u001b[1;33m(\u001b[0m\u001b[1;33m(\u001b[0m\u001b[0mBy\u001b[0m\u001b[1;33m.\u001b[0m\u001b[0mCSS_SELECTOR\u001b[0m\u001b[1;33m,\u001b[0m \u001b[1;34m\"a[role='button']\"\u001b[0m\u001b[1;33m)\u001b[0m\u001b[1;33m)\u001b[0m\u001b[1;33m)\u001b[0m\u001b[1;33m.\u001b[0m\u001b[0mclick\u001b[0m\u001b[1;33m(\u001b[0m\u001b[1;33m)\u001b[0m\u001b[1;33m\u001b[0m\u001b[1;33m\u001b[0m\u001b[0m\n\u001b[0m\u001b[0;32m      2\u001b[0m \u001b[0mdriver\u001b[0m\u001b[1;33m.\u001b[0m\u001b[0mimplicitly_wait\u001b[0m\u001b[1;33m(\u001b[0m\u001b[1;36m10\u001b[0m\u001b[1;33m)\u001b[0m\u001b[1;33m\u001b[0m\u001b[1;33m\u001b[0m\u001b[0m\n",
      "\u001b[1;32m~\\miniconda3\\envs\\web\\lib\\site-packages\\selenium\\webdriver\\support\\wait.py\u001b[0m in \u001b[0;36muntil\u001b[1;34m(self, method, message)\u001b[0m\n\u001b[0;32m     78\u001b[0m             \u001b[1;32mif\u001b[0m \u001b[0mtime\u001b[0m\u001b[1;33m.\u001b[0m\u001b[0mtime\u001b[0m\u001b[1;33m(\u001b[0m\u001b[1;33m)\u001b[0m \u001b[1;33m>\u001b[0m \u001b[0mend_time\u001b[0m\u001b[1;33m:\u001b[0m\u001b[1;33m\u001b[0m\u001b[1;33m\u001b[0m\u001b[0m\n\u001b[0;32m     79\u001b[0m                 \u001b[1;32mbreak\u001b[0m\u001b[1;33m\u001b[0m\u001b[1;33m\u001b[0m\u001b[0m\n\u001b[1;32m---> 80\u001b[1;33m         \u001b[1;32mraise\u001b[0m \u001b[0mTimeoutException\u001b[0m\u001b[1;33m(\u001b[0m\u001b[0mmessage\u001b[0m\u001b[1;33m,\u001b[0m \u001b[0mscreen\u001b[0m\u001b[1;33m,\u001b[0m \u001b[0mstacktrace\u001b[0m\u001b[1;33m)\u001b[0m\u001b[1;33m\u001b[0m\u001b[1;33m\u001b[0m\u001b[0m\n\u001b[0m\u001b[0;32m     81\u001b[0m \u001b[1;33m\u001b[0m\u001b[0m\n\u001b[0;32m     82\u001b[0m     \u001b[1;32mdef\u001b[0m \u001b[0muntil_not\u001b[0m\u001b[1;33m(\u001b[0m\u001b[0mself\u001b[0m\u001b[1;33m,\u001b[0m \u001b[0mmethod\u001b[0m\u001b[1;33m,\u001b[0m \u001b[0mmessage\u001b[0m\u001b[1;33m=\u001b[0m\u001b[1;34m''\u001b[0m\u001b[1;33m)\u001b[0m\u001b[1;33m:\u001b[0m\u001b[1;33m\u001b[0m\u001b[1;33m\u001b[0m\u001b[0m\n",
      "\u001b[1;31mTimeoutException\u001b[0m: Message: \n"
     ]
    }
   ],
   "source": [
    "Search= button = WebDriverWait(driver, 5).until(EC.element_to_be_clickable((By.CSS_SELECTOR, \"a[role='button']\"))).click()\n",
    "driver.implicitly_wait(10)"
   ]
  },
  {
   "cell_type": "code",
   "execution_count": 14,
   "id": "75eade7f",
   "metadata": {},
   "outputs": [
    {
     "name": "stdout",
     "output_type": "stream",
     "text": [
      "Ipad 16gb sans sim\n",
      "\n",
      "\n",
      "001\n",
      "\n",
      "\n",
      "PlayStation 4\n",
      "\n",
      "\n",
      "Magasin yarazaku vente en ligne contacter au numéro suivant : 0813235603 appel où bien WhatsApp\n",
      "\n",
      "\n",
      "Magasin yarazaku vente en ligne contacter au numéro suivant : 0813235603 appel où bien WhatsApp\n",
      "\n",
      "\n",
      "Magasin yarazaku vente en ligne contacter au numéro suivant : 0813235603 appel où bien WhatsApp\n",
      "\n",
      "\n",
      "Magasin yarazaku vente en ligne contacter au numéro suivant : 0813235603 appel où bien WhatsApp\n",
      "\n",
      "\n",
      "Magasin yarazaku vente en ligne contacter au numéro suivant : 0813235603 appel où bien WhatsApp\n",
      "\n",
      "\n",
      "Ipad 16gb sans sim\n",
      "\n",
      "\n",
      "Techno pova et spark7 pro\n",
      "\n",
      "\n",
      "Techno pova et spark7 pro\n",
      "\n",
      "\n",
      "Techno pova et spark7 pro\n",
      "\n",
      "\n",
      "Honor 64gb 4gb avendre\n",
      "\n",
      "\n",
      "01\n",
      "\n",
      "\n",
      "Magasin yarazaku vente en ligne contacter au numéro suivant : 0813235603 appel où bien WhatsApp\n",
      "\n",
      "\n",
      "Magasin yarazaku vente en ligne contacter au numéro suivant : 0813235603 appel où bien WhatsApp\n",
      "\n",
      "\n",
      "Magasin yarazaku vente en ligne contacter au numéro suivant : 0813235603 appel où bien WhatsApp\n",
      "\n",
      "\n",
      "Xr désactivé Avendre\n",
      "\n",
      "\n",
      "Techno pova et spark7 pro\n",
      "\n",
      "\n",
      "tecno spark3 16g tres propres\n",
      "\n",
      "\n"
     ]
    }
   ],
   "source": [
    "links = []\n",
    "titles = []\n",
    "ti=\"_4gus\"\n",
    "\n",
    "\n",
    "##element = driver.find_element(By.CLASS_NAME, ti).get_attribute('href')\n",
    "\n",
    "driver.implicitly_wait(10)\n",
    "time. sleep(5)\n",
    "\n",
    "#I was worried that the webdrive would not identify the different page, so I had to wait and press the \"END\" Key multiple times\n",
    "webdriver.ActionChains(driver).key_down(Keys.END).perform()\n",
    "time. sleep(3)\n",
    "webdriver.ActionChains(driver).key_down(Keys.END).perform()\n",
    "time. sleep(3)\n",
    "webdriver.ActionChains(driver).key_down(Keys.END).perform()\n",
    "time. sleep(3)\n",
    "\n",
    "WebDriverWait(driver, 10).until(EC.element_to_be_clickable((By.CLASS_NAME, ti)))\n",
    "\n",
    "\n",
    "#\"_7hjkg\" is the class name of the in the HTML file\n",
    "        \n",
    "price = \"_4guw\"\n",
    "ti=\"_4gus\"\n",
    "title = driver.find_elements(By.CLASS_NAME, ti)\n",
    "\n",
    "for f in title:\n",
    "    c = f.text\n",
    "    if (c != None):\n",
    "        titles.append(c)\n",
    "\n",
    "for i in range(len(titles)):\n",
    "    print(titles[i])\n",
    "    time.sleep(2)\n",
    "    print(\"\\n\")\n"
   ]
  },
  {
   "cell_type": "code",
   "execution_count": 15,
   "id": "e2e1fc50",
   "metadata": {},
   "outputs": [
    {
     "data": {
      "text/plain": [
       "['Ipad 16gb sans sim',\n",
       " '001',\n",
       " 'PlayStation 4',\n",
       " 'Magasin yarazaku vente en ligne contacter au numéro suivant : 0813235603 appel où bien WhatsApp',\n",
       " 'Magasin yarazaku vente en ligne contacter au numéro suivant : 0813235603 appel où bien WhatsApp',\n",
       " 'Magasin yarazaku vente en ligne contacter au numéro suivant : 0813235603 appel où bien WhatsApp',\n",
       " 'Magasin yarazaku vente en ligne contacter au numéro suivant : 0813235603 appel où bien WhatsApp',\n",
       " 'Magasin yarazaku vente en ligne contacter au numéro suivant : 0813235603 appel où bien WhatsApp',\n",
       " 'Ipad 16gb sans sim',\n",
       " 'Techno pova et spark7 pro',\n",
       " 'Techno pova et spark7 pro',\n",
       " 'Techno pova et spark7 pro',\n",
       " 'Honor 64gb 4gb avendre',\n",
       " '01',\n",
       " 'Magasin yarazaku vente en ligne contacter au numéro suivant : 0813235603 appel où bien WhatsApp',\n",
       " 'Magasin yarazaku vente en ligne contacter au numéro suivant : 0813235603 appel où bien WhatsApp',\n",
       " 'Magasin yarazaku vente en ligne contacter au numéro suivant : 0813235603 appel où bien WhatsApp',\n",
       " 'Xr désactivé Avendre',\n",
       " 'Techno pova et spark7 pro',\n",
       " 'tecno spark3 16g tres propres']"
      ]
     },
     "execution_count": 15,
     "metadata": {},
     "output_type": "execute_result"
    }
   ],
   "source": [
    "titles"
   ]
  },
  {
   "cell_type": "code",
   "execution_count": null,
   "id": "d592d651",
   "metadata": {},
   "outputs": [],
   "source": []
  },
  {
   "cell_type": "code",
   "execution_count": null,
   "id": "99d2d086",
   "metadata": {},
   "outputs": [],
   "source": [
    "with open('a.csv', 'w', newline='', encoding='utf-8') as csvfile:\n",
    "    fieldnames = [ 'Group Name', 'Links']\n",
    "\n",
    "    thewriter = csv.DictWriter(csvfile, fieldnames=fieldnames)\n",
    "    thewriter.writeheader()\n",
    "\n",
    "    for a in range(len(t)):\n",
    "        thewriter.writerow({'Group Name': t[a], 'Links': l[a]})\n"
   ]
  }
 ],
 "metadata": {
  "kernelspec": {
   "display_name": "Python 3 (ipykernel)",
   "language": "python",
   "name": "python3"
  },
  "language_info": {
   "codemirror_mode": {
    "name": "ipython",
    "version": 3
   },
   "file_extension": ".py",
   "mimetype": "text/x-python",
   "name": "python",
   "nbconvert_exporter": "python",
   "pygments_lexer": "ipython3",
   "version": "3.7.11"
  }
 },
 "nbformat": 4,
 "nbformat_minor": 5
}
