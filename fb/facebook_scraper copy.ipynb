{
 "cells": [
  {
   "cell_type": "code",
   "execution_count": 2,
   "id": "9ddd28d1",
   "metadata": {},
   "outputs": [],
   "source": [
    "from selenium import webdriver\n",
    "from selenium.webdriver.common.keys import Keys\n",
    "from selenium.webdriver.support import expected_conditions as EC\n",
    "from selenium.webdriver.common.by import By\n",
    "from selenium.webdriver.support.wait import WebDriverWait\n",
    "from selenium.webdriver.support import expected_conditions as EC\n",
    "import os\n",
    "import wget\n",
    "import time\n",
    "import json\n",
    "import pprint\n",
    "import csv\n",
    "\n",
    "from fb_function import OpenLink, FbLogin, Collect, SaveJason, GoDown, FindText\n",
    "from fb_variable import post, driver, wait, class_list, auto\n",
    "\n"
   ]
  },
  {
   "cell_type": "code",
   "execution_count": 3,
   "id": "ac111180",
   "metadata": {},
   "outputs": [],
   "source": [
    "\n",
    "words=[]\n",
    "#listnum = int(input(\"How many word in the list: \"))\n",
    "        \n",
    "\n",
    "chrome_options = webdriver.ChromeOptions()\n",
    "prefs = {\"profile.default_content_setting_values.notifications\" : 2}\n",
    "chrome_options.add_experimental_option(\"prefs\",prefs)\n",
    "\n",
    "\n",
    "#specify the path to chromedriver.exe (download and save on your computer)\n",
    "driver = webdriver.Chrome('C:/Users/maglo/OneDrive/Documents/chromedriver.exe',options=chrome_options)\n",
    "\n",
    "wait = WebDriverWait(driver, 2)\n",
    "#open the webpage ( I am using the mobile.facebook because it has less functionalilty so it will be \"harder\" for facebook bot to track us?!)\n",
    "\n",
    "\n",
    "\n"
   ]
  },
  {
   "cell_type": "code",
   "execution_count": 4,
   "id": "3043ebfe",
   "metadata": {},
   "outputs": [
    {
     "name": "stdout",
     "output_type": "stream",
     "text": [
      "Now collecting the data...\n",
      "\n"
     ]
    }
   ],
   "source": [
    "love =[]\n",
    "\n",
    "print(\"Now collecting the data\", end=\"\")\n",
    "time.sleep(2)\n",
    "for e in range(3):\n",
    "    print('.', end=\"\")\n",
    "    time.sleep(2)\n",
    "print('\\n')"
   ]
  },
  {
   "cell_type": "code",
   "execution_count": 5,
   "id": "a9c668cc",
   "metadata": {},
   "outputs": [],
   "source": [
    "\n",
    "\n",
    "plus = \"_56bz _54k8 _5c9u _5caa\"\n",
    "info = \"_54k8 _55i1 _58a0 touchable _ycc\"\n",
    "\n",
    "\n",
    "text1 = \"Voir les infos du groupe\"\n",
    "\n",
    "member = \"_5r7n\"\n",
    "\n",
    "text2 = \"membres\""
   ]
  },
  {
   "cell_type": "code",
   "execution_count": 6,
   "id": "006ccfe5",
   "metadata": {},
   "outputs": [
    {
     "ename": "NameError",
     "evalue": "name 'sec' is not defined",
     "output_type": "error",
     "traceback": [
      "\u001b[1;31m---------------------------------------------------------------------------\u001b[0m",
      "\u001b[1;31mNameError\u001b[0m                                 Traceback (most recent call last)",
      "\u001b[1;32mc:\\Users\\maglo\\OneDrive\\Documents\\CS\\MyProjects\\Python projects\\Web parser\\python scraper\\fb\\facebook_scraper copy.ipynb Cell 5'\u001b[0m in \u001b[0;36m<module>\u001b[1;34m\u001b[0m\n\u001b[0;32m      <a href='vscode-notebook-cell:/c%3A/Users/maglo/OneDrive/Documents/CS/MyProjects/Python%20projects/Web%20parser/python%20scraper/fb/facebook_scraper%20copy.ipynb#ch0000004?line=0'>1</a>\u001b[0m driver \u001b[39m=\u001b[39m webdriver\u001b[39m.\u001b[39mChrome(\u001b[39m'\u001b[39m\u001b[39mC:/Users/maglo/OneDrive/Documents/chromedriver.exe\u001b[39m\u001b[39m'\u001b[39m,options\u001b[39m=\u001b[39mchrome_options)\n\u001b[1;32m----> <a href='vscode-notebook-cell:/c%3A/Users/maglo/OneDrive/Documents/CS/MyProjects/Python%20projects/Web%20parser/python%20scraper/fb/facebook_scraper%20copy.ipynb#ch0000004?line=3'>4</a>\u001b[0m OpenLink(auto[\u001b[39m0\u001b[39m], sec, driver)\n\u001b[0;32m      <a href='vscode-notebook-cell:/c%3A/Users/maglo/OneDrive/Documents/CS/MyProjects/Python%20projects/Web%20parser/python%20scraper/fb/facebook_scraper%20copy.ipynb#ch0000004?line=4'>5</a>\u001b[0m l \u001b[39m=\u001b[39m driver\u001b[39m.\u001b[39mfind_elements(By\u001b[39m.\u001b[39mID,\u001b[39m\"\u001b[39m\u001b[39mmobile_login_bar\u001b[39m\u001b[39m\"\u001b[39m)\n\u001b[0;32m      <a href='vscode-notebook-cell:/c%3A/Users/maglo/OneDrive/Documents/CS/MyProjects/Python%20projects/Web%20parser/python%20scraper/fb/facebook_scraper%20copy.ipynb#ch0000004?line=5'>6</a>\u001b[0m s \u001b[39m=\u001b[39m \u001b[39mlen\u001b[39m(l)\n",
      "\u001b[1;31mNameError\u001b[0m: name 'sec' is not defined"
     ]
    }
   ],
   "source": [
    "driver = webdriver.Chrome('C:/Users/maglo/OneDrive/Documents/chromedriver.exe',options=chrome_options)\n",
    "\n",
    "\n",
    "OpenLink(auto[0], sec, driver)\n",
    "l = driver.find_elements(By.ID,\"mobile_login_bar\")\n",
    "s = len(l)\n",
    "if(s>0):\n",
    "    print(\">>>Login barrier exists <<<\\n\")\n",
    "    FbLogin(sec)\n",
    "    print(\"logged in Successfully\\n\")"
   ]
  },
  {
   "cell_type": "code",
   "execution_count": null,
   "id": "22b4157d",
   "metadata": {},
   "outputs": [],
   "source": [
    "for n in  range(len(auto)):\n",
    "    OpenLink(auto[n], sec, driver)\n",
    "    time.sleep(sec)\n",
    "    l = driver.find_elements(By.ID,\"mobile_login_bar\")\n",
    "    s = len(l)\n",
    "    if(s>0):\n",
    "        print(\">>>Login barrier exists <<<\\n\")\n",
    "        FbLogin(sec)\n",
    "        time.sleep(3)\n",
    "        print(\"logged in Successfully\\n\")\n",
    "        for p in range(sec):\n",
    "            GoDown(p)\n",
    "        Collect(sec, class_list)\n",
    "        SaveJason()\n",
    "        print(\"successfully scrapped\")\n",
    "\n",
    "    else:\n",
    "        print(\">>>Login barrier does not exist <<<\")\n",
    "        time.sleep(2)\n",
    "        print(\"\\n You can scroll safely\")\n",
    "        GoDown(sec)\n",
    "        for p in range(sec):\n",
    "            time.sleep(sec)\n",
    "            GoDown(p)\n",
    "        Collect(sec)\n",
    "        SaveJason()\n",
    "    print(\"successfully scrapped\")"
   ]
  },
  {
   "cell_type": "code",
   "execution_count": null,
   "id": "71943d1b",
   "metadata": {},
   "outputs": [
    {
     "ename": "NameError",
     "evalue": "name 'driver' is not defined",
     "output_type": "error",
     "traceback": [
      "\u001b[1;31m---------------------------------------------------------------------------\u001b[0m",
      "\u001b[1;31mNameError\u001b[0m                                 Traceback (most recent call last)",
      "\u001b[1;32mc:\\Users\\maglo\\OneDrive\\Documents\\CS\\MyProjects\\Python projects\\Web parser\\python scraper\\facebook_scraper copy.ipynb Cell 6'\u001b[0m in \u001b[0;36m<module>\u001b[1;34m\u001b[0m\n\u001b[0;32m      <a href='vscode-notebook-cell:/c%3A/Users/maglo/OneDrive/Documents/CS/MyProjects/Python%20projects/Web%20parser/python%20scraper/facebook_scraper%20copy.ipynb#ch0000008?line=0'>1</a>\u001b[0m me \u001b[39m=\u001b[39m \u001b[39m\"\u001b[39m\u001b[39mmembre\u001b[39m\u001b[39m\"\u001b[39m\n\u001b[1;32m----> <a href='vscode-notebook-cell:/c%3A/Users/maglo/OneDrive/Documents/CS/MyProjects/Python%20projects/Web%20parser/python%20scraper/facebook_scraper%20copy.ipynb#ch0000008?line=1'>2</a>\u001b[0m FindText(me)\n",
      "File \u001b[1;32mc:\\Users\\maglo\\OneDrive\\Documents\\CS\\MyProjects\\Python projects\\Web parser\\python scraper\\scraping_f.py:81\u001b[0m, in \u001b[0;36mFindText\u001b[1;34m(t)\u001b[0m\n\u001b[0;32m     <a href='file:///c%3A/Users/maglo/OneDrive/Documents/CS/MyProjects/Python%20projects/Web%20parser/python%20scraper/scraping_f.py?line=79'>80</a>\u001b[0m \u001b[39mdef\u001b[39;00m \u001b[39mFindText\u001b[39m(t):\n\u001b[1;32m---> <a href='file:///c%3A/Users/maglo/OneDrive/Documents/CS/MyProjects/Python%20projects/Web%20parser/python%20scraper/scraping_f.py?line=80'>81</a>\u001b[0m     ms\u001b[39m=\u001b[39mdriver\u001b[39m.\u001b[39mfind_elements(By\u001b[39m.\u001b[39mXPATH,(\u001b[39m'\u001b[39m\u001b[39m//*[contains(text(), \u001b[39m\u001b[39m\"\u001b[39m\u001b[39m'\u001b[39m \u001b[39m+\u001b[39m t \u001b[39m+\u001b[39m \u001b[39m'\u001b[39m\u001b[39m\"\u001b[39m\u001b[39m)]\u001b[39m\u001b[39m'\u001b[39m))\n\u001b[0;32m     <a href='file:///c%3A/Users/maglo/OneDrive/Documents/CS/MyProjects/Python%20projects/Web%20parser/python%20scraper/scraping_f.py?line=81'>82</a>\u001b[0m     time\u001b[39m.\u001b[39msleep(\u001b[39m3\u001b[39m)\n\u001b[0;32m     <a href='file:///c%3A/Users/maglo/OneDrive/Documents/CS/MyProjects/Python%20projects/Web%20parser/python%20scraper/scraping_f.py?line=82'>83</a>\u001b[0m     \u001b[39mfor\u001b[39;00m m \u001b[39min\u001b[39;00m ms:\n",
      "\u001b[1;31mNameError\u001b[0m: name 'driver' is not defined"
     ]
    }
   ],
   "source": [
    "me = \"membre\"\n",
    "FindText(me)"
   ]
  },
  {
   "cell_type": "code",
   "execution_count": null,
   "id": "b03b2bd1",
   "metadata": {},
   "outputs": [],
   "source": []
  },
  {
   "cell_type": "code",
   "execution_count": null,
   "id": "9ddf0f61",
   "metadata": {},
   "outputs": [],
   "source": [
    "\n",
    "\n",
    "for n in  range(len(auto)):\n",
    "    OpenLink(auto[n], sec)\n",
    "    time.sleep(sec)\n",
    "    l = driver.find_elements(By.ID,\"mobile_login_bar\")\n",
    "    s = len(l)\n",
    "    if(s>0):\n",
    "        print(\">>>Login barrier exists <<<\\n\")\n",
    "        FbLogin(sec)\n",
    "        time.sleep(3)\n",
    "        print(\"logged in Successfully\\n\")\n",
    "        for p in range(sec):\n",
    "            GoDown(p)\n",
    "        Collect(sec, class_list)\n",
    "        SaveJason()\n",
    "        print(\"successfully scrapped\")\n",
    "\n",
    "    else:\n",
    "        print(\">>>Login barrier does not exist <<<\")\n",
    "        time.sleep(2)\n",
    "        print(\"\\n You can scroll safely\")\n",
    "        GoDown(sec)\n",
    "        for p in range(sec):\n",
    "            time.sleep(sec)\n",
    "            GoDown(p)\n",
    "        Collect(sec)\n",
    "        SaveJason()\n",
    "    print(\"successfully scrapped\")\n",
    "\n",
    "\n",
    "driver.close()  \n",
    "print(\"Driver is closed\\n\")\n",
    "SaveJason()"
   ]
  }
 ],
 "metadata": {
  "kernelspec": {
   "display_name": "Python 3 (ipykernel)",
   "language": "python",
   "name": "python3"
  },
  "language_info": {
   "codemirror_mode": {
    "name": "ipython",
    "version": 3
   },
   "file_extension": ".py",
   "mimetype": "text/x-python",
   "name": "python",
   "nbconvert_exporter": "python",
   "pygments_lexer": "ipython3",
   "version": "3.8.5"
  }
 },
 "nbformat": 4,
 "nbformat_minor": 5
}
