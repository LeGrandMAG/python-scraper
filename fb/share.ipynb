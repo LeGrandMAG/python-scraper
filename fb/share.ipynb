{
 "cells": [
  {
   "cell_type": "code",
   "execution_count": 1,
   "metadata": {},
   "outputs": [],
   "source": [
    "from selenium import webdriver\n",
    "from selenium.webdriver.common.keys import Keys\n",
    "from selenium.webdriver.support import expected_conditions as EC\n",
    "from selenium.webdriver.common.by import By\n",
    "from selenium.webdriver.support.wait import WebDriverWait\n",
    "from selenium.common.exceptions import WebDriverException\n",
    "import time\n",
    "import schedule\n",
    "import csv\n",
    "import pandas as pd\n",
    "import random"
   ]
  },
  {
   "cell_type": "code",
   "execution_count": 1,
   "metadata": {},
   "outputs": [
    {
     "ename": "NameError",
     "evalue": "name 'pd' is not defined",
     "output_type": "error",
     "traceback": [
      "\u001b[1;31m---------------------------------------------------------------------------\u001b[0m",
      "\u001b[1;31mNameError\u001b[0m                                 Traceback (most recent call last)",
      "\u001b[1;32mc:\\Users\\maglo\\OneDrive\\Documents\\CS\\MyProjects\\Python projects\\Web parser\\python scraper\\fb\\share.ipynb Cell 2'\u001b[0m in \u001b[0;36m<module>\u001b[1;34m\u001b[0m\n\u001b[0;32m      <a href='vscode-notebook-cell:/c%3A/Users/maglo/OneDrive/Documents/CS/MyProjects/Python%20projects/Web%20parser/python%20scraper/fb/share.ipynb#ch0000001?line=0'>1</a>\u001b[0m \u001b[39m#setting the different variables\u001b[39;00m\n\u001b[1;32m----> <a href='vscode-notebook-cell:/c%3A/Users/maglo/OneDrive/Documents/CS/MyProjects/Python%20projects/Web%20parser/python%20scraper/fb/share.ipynb#ch0000001?line=1'>2</a>\u001b[0m df \u001b[39m=\u001b[39m pd\u001b[39m.\u001b[39mread_csv(\u001b[39m'\u001b[39m\u001b[39mes.csv\u001b[39m\u001b[39m'\u001b[39m)\n\u001b[0;32m      <a href='vscode-notebook-cell:/c%3A/Users/maglo/OneDrive/Documents/CS/MyProjects/Python%20projects/Web%20parser/python%20scraper/fb/share.ipynb#ch0000001?line=2'>3</a>\u001b[0m df\u001b[39m.\u001b[39mcolumns \u001b[39m=\u001b[39m [\u001b[39m\"\u001b[39m\u001b[39mnames\u001b[39m\u001b[39m\"\u001b[39m]\n\u001b[0;32m      <a href='vscode-notebook-cell:/c%3A/Users/maglo/OneDrive/Documents/CS/MyProjects/Python%20projects/Web%20parser/python%20scraper/fb/share.ipynb#ch0000001?line=3'>4</a>\u001b[0m gname \u001b[39m=\u001b[39m df[\u001b[39m'\u001b[39m\u001b[39mnames\u001b[39m\u001b[39m'\u001b[39m]\n",
      "\u001b[1;31mNameError\u001b[0m: name 'pd' is not defined"
     ]
    }
   ],
   "source": [
    "#setting the different variables\n",
    "df = pd.read_csv('es.csv')\n",
    "df.columns = [\"names\"]\n",
    "gname = df['names']\n",
    "\n",
    "rand = random.randrange\n",
    "# setting up the link to use in the project\n",
    "\n",
    "productList = [\n",
    "    'https://mobile.facebook.com/story.php?story_fbid=163074876142690&id=101047079012137', \n",
    "    'https://mobile.facebook.com/story.php?story_fbid=163312619452249&id=101047079012137', \n",
    "    'https://mobile.facebook.com/story.php?story_fbid=163299339453577&id=101047079012137', \n",
    "    'https://mobile.facebook.com/story.php?story_fbid=163301649453346&id=101047079012137', \n",
    "    'https://mobile.facebook.com/story.php?story_fbid=163307819452729&id=101047079012137', \n",
    "    'https://mobile.facebook.com/story.php?story_fbid=163202182796626&id=101047079012137', \n",
    "    'https://mobile.facebook.com/story.php?story_fbid=163170099466501&id=101047079012137', \n",
    "    'https://mobile.facebook.com/story.php?story_fbid=163190889464422&id=101047079012137'\n",
    "]\n",
    "\n",
    "descp = [\n",
    "    \"Je suis chaud.Je vends a Kinshasa et le prix est discutable.wearewepo\",\n",
    "    \"Produits originaux et des prix discutables. Jettez un coup d'oeil sur notre page WEPO pour plus de produits\",\n",
    "    \"Vous cherchez des phones d'occasions et des prix discutables? Visitez notre page WEPO\",\n",
    "    \"En savoir plus sur notre page WEPO. Produits dispo à Kin\",\n",
    "    \"Bonne qualité, bon prix. WEPO\"\n",
    "]\n",
    "\n",
    "login = \"https://mobile.facebook.com/\"\n",
    "productLis = []\n",
    "h = \"https://www.\"\n",
    "for i in productList:\n",
    "    productLis.append(h + i[15:])\n",
    "\n",
    "\n",
    "username = 'info.sensmart@gmail.com'\n",
    "password = 'yeswecan'\n",
    "gname = df['names']\n",
    "\n",
    "\n",
    "gr = ['Vendre-acheter Kinshasa', \"Les pro de l'informatique\", 'Acheter,Louer,Vendre des produits à Kinshasa/Somba, Teka na Kinshasa', 'Teka somba voiture à Kinshasa', 'Teka somba na prix ya Bien', 'Teka somba na prix ya bien', 'TEKA ET SOMBA À KINSHASA (VAINQUEUR)', 'Teka somba en ligne', 'Teka Somba téléphone tou', 'SOMBA TEKA MOKILI MOBIMBA', '�Teka-Somba 24/24�', 'Vente de iPhone à Kinshasa', 'Vente en ligne à Kinshasa', 'TEKA SOMBA NA WENZE KINSHASA', 'Bi Teka Teka', 'ZANDO ya KINSHASA', 'TEKA SOMBA NA PRIX YA Bien', 'Teka-Kakola-Somba 2éme bord (Kinshasa)', 'Occasion de Kinshasa', 'KIN VENTE/ACHAT', 'Kinshasa Expats Business Center', 'TEKA SOMBA RAPIDE KINSHASA🇨🇩', 'Acheter & Vendre à Kinshasa RDC', 'Ekiti talo (solde, vente, achat, troc, promotion, publicité,... )', 'Bon Coin', 'Teka - Kakola - Somba (kinshasa)', 'Vente à Kinshasa', 'VENTE EN LIGNE, EN RDC ET AILLEURS', 'KINSHASA MAGASIN', 'Le bon coin pour les congolais', 'TEKA SOMBA Drc 243📸📹🚕📱💻⌚️👗👠👖🥾', 'Kinshasa Expats', 'Cop & Business Congo Kinshasa', \"Découvrez les meilleurs vendeurs d'iPhone à kinshasa\", 'Vente De Iphone Moins Cher( Markus Toutterrain💪🏿✨✌️)', 'TEKA-_SOMBA ( Coop en Ligne)', 'TEKA - SOMBA - Marché congolais', 'BILOKOS 💯 %⛸️🚔🛴🚲🚿🎹🎻', 'KINSHASA BUSINESS (ACHATS ET VENTES)', 'Vente des iPhone 📱', \"A chercher d'un téléphone deal lushi ��\", 'teka na congo', 'Undersky Group Vente Partout à Kinshasa', 'TEKA PE SOMBA NYONSO MOKILI MOBIMBA 📷☎️🚘🏠💻🖨️', 'Kinshasa � � vente de console', 'Teka /Somba/Vente et Achat/ Kinshasa +243', 'VENTE et TROC DE TÉLÉPHONE IPHONE et ANDROID à Kinshasa', 'Vente des véhicules toute sorte a Kinshasa', 'Vente et Achat Ordinateur Portable Kinshasa RDC', 'kin-Achat, - Vente et location', 'Teka Nyioso', 'Kinshasa Vente/Achat', 'Global Kinshasa Market', 'Allô teka na kin', 'TEKA SOMBA NA PRIX YA BIEN', 'Kps teka somba na prix ya bien', \"D.Law's Business women's. �Somba,Teka, pe Kakola en ligne na prix tokos�\", 'TEKA, SOMBA TSHOMBO NA PRIX MANGONDO �����', 'Vente en ligne Kinshasa', 'TOZO TEKA PE TOZO SOMBA (vente et achat en ligne)���pour les Matadien', 'vente à Kinshasa', 'Vente en ligne filles, garçons +243891356043 chz davido', 'Teka pe Somba Nionso', 'RDC BUSINESS VENTE ET ACHAT EN LIGNE', 'Bon coin de vente et achat à Kinshasa iPhone, Samsung, itel, techno ....', \"Teka'ngo Market\", 'Business Avenue Kennedy (Achetez - Vendez & Troquez En Ligne)', 'TEKA KAKOLA SOMBA NA WENZE YA KINSHASA TSHANGU', 'teka somba na Kinshasa', 'VENTE DE TOUT A KINSHASA', 'Marché en ligne, Vente de tous KINSHASA', '📲Teka Somba✨na✨Prix ya bien!📲', 'TEKA SOMBA & BALI MOBILE', 'Kinshasa Members', 'Achats et ventes en ligne Tout Kinshasa', 'Teka somba na talo ya bien(Kinshasa)', 'Kinshasa Buy And Sell', 'Kinshasa 🇨🇩 achat et vente', 'Teka pe somba na kinshasa', 'Somba Tshombo', 'TEKA SOMBA NA PRIX YA BIEN', 'TEKA SOMBA NA PRIX YA BIEN', 'Libre échange ( TEKA SOMBA )�', 'Teka somba📱📲 achat et vente', '100 % Kinshasa business somba_pe_teka_kakola en ligne', '📱Teka-Somba✨En ligne!📱', \"Teka somba na prix y'a bien\", 'TEKA SOMBA NA CONGO avec LAMA SHOPPING', 'ANNONCE CONGO - Achats et Ventes des articles', 'TEKA SOMBA NA KINSHASA', 'VENTE EN LIGNE', 'Habits, Sacs, Chaussures et tous en vente/RDC', 'Teka Somba Iphone', 'VENTE ET ACHAT DES ORDINATEURS', 'KIN APPLE 🍏', 'BONNES AFFAIRES TEKA ,SOMBA Na KINSHASA-LUANDA', 'Teka chaud', 'Kinshasa Vente et Achat', 'Wenze Na Poche', 'Teka somba en ligne', 'Amazon Vents tout à Kinshasa', 'KINSHASA MAKAMBO DE PAPA MOLIERE', 'Acheter & Vendre des Biens et services en RDCongo', 'KINSHASA, AFFAIRES TEKA , SOMBA', 'TOUT TEKA NGO ( commerce en ligne)', 'Marché ya Kin (achat, vente, expertise, location, gestion immobilière...)', 'Congo Ventes', 'Vente et Achat facile', 'Vente et Achat a Kinshasa', 'ZandoNet (vente et achat de tout type de produit légal)', 'KINSHASA BUSINESS et MARKETING (vente, achat et pub)', 'Kinshasa somba teka eloko nayo', 'Brands Bazar Kinshasa', 'RDC 🇨🇩 Teka pé Somba', 'Bilokos (Achat/Vente/Troc/Offres. Je deal - Tu deal - On deal)', 'Congo Speed! VENDEZ ET TROQUER', 'À VENDRE, À ACHETER OU À DONNER À KINSHASA ET SES ENVIRONS']\n",
    "\n"
   ]
  },
  {
   "cell_type": "code",
   "execution_count": 20,
   "metadata": {},
   "outputs": [
    {
     "data": {
      "text/plain": [
       "['https://www.facebook.com/story.php?story_fbid=163074876142690&id=101047079012137',\n",
       " 'https://www.facebook.com/story.php?story_fbid=163312619452249&id=101047079012137',\n",
       " 'https://www.facebook.com/story.php?story_fbid=163299339453577&id=101047079012137',\n",
       " 'https://www.facebook.com/story.php?story_fbid=163301649453346&id=101047079012137',\n",
       " 'https://www.facebook.com/story.php?story_fbid=163307819452729&id=101047079012137',\n",
       " 'https://www.facebook.com/story.php?story_fbid=163202182796626&id=101047079012137',\n",
       " 'https://www.facebook.com/story.php?story_fbid=163170099466501&id=101047079012137',\n",
       " 'https://www.facebook.com/story.php?story_fbid=163190889464422&id=101047079012137']"
      ]
     },
     "execution_count": 20,
     "metadata": {},
     "output_type": "execute_result"
    }
   ],
   "source": [
    "productLis"
   ]
  },
  {
   "cell_type": "code",
   "execution_count": 3,
   "metadata": {},
   "outputs": [],
   "source": [
    "#setting up the environment to use in the project\n",
    "\n",
    "chrome_options = webdriver.ChromeOptions()\n",
    "prefs = {\"profile.default_content_setting_values.notifications\" : 2}\n",
    "chrome_options.add_experimental_option(\"prefs\",prefs)\n",
    "#chrome_options.add_argument('headless')"
   ]
  },
  {
   "cell_type": "code",
   "execution_count": null,
   "metadata": {},
   "outputs": [],
   "source": [
    "#Launch the browser\n",
    "driver = webdriver.Chrome('C:/Users/maglo/OneDrive/Documents/chromedriver.exe',options=chrome_options)\n"
   ]
  },
  {
   "cell_type": "code",
   "execution_count": 5,
   "metadata": {},
   "outputs": [],
   "source": [
    "def Log(driver):\n",
    "    driver.get(login)\n",
    "    time.sleep(2)\n",
    "    driver.find_element(By.TAG_NAME, \"input[id='m_login_email']\").send_keys(username)\n",
    "    driver.find_element(By.TAG_NAME, \"input[id='m_login_password']\").send_keys(password)\n",
    "    time.sleep(5)\n",
    "    driver.find_element(By.TAG_NAME, \"button[name='login']\").click()\n",
    "    "
   ]
  },
  {
   "cell_type": "code",
   "execution_count": 6,
   "metadata": {},
   "outputs": [],
   "source": [
    "\n",
    "def share(driver):\n",
    "    time.sleep(2)\n",
    "    driver.find_element(By. CSS_SELECTOR,  \"div[class ='tvfksri0 ozuftl9m']>div>div:nth-child(3)\").click()\n",
    "    time.sleep(2)\n",
    "    driver.find_element(By.CSS_SELECTOR, \"div[ class = 'o36gj0jk eg9m0zos d76ob5m9']>div>div>div>div:nth-child(4)\").click()\n",
    "\n"
   ]
  },
  {
   "cell_type": "code",
   "execution_count": 7,
   "metadata": {},
   "outputs": [],
   "source": [
    "link =\"https://mobile.facebook.com/login/save-device/?login_source=login#_=_\"\n",
    "\n",
    "\n",
    "def checklink(link):\n",
    "    d = WebDriverWait(driver, 30).until(EC.url_to_be(link))\n",
    "    time.sleep(3)\n",
    "    return d\n"
   ]
  },
  {
   "cell_type": "code",
   "execution_count": 8,
   "metadata": {},
   "outputs": [],
   "source": [
    "grouplist = []"
   ]
  },
  {
   "cell_type": "code",
   "execution_count": 19,
   "metadata": {},
   "outputs": [],
   "source": [
    "def grouploop(driver,grouplist):\n",
    "    \n",
    "    pp = driver.find_element(By.CSS_SELECTOR, \"div[class ='b20td4e0 muag1w35']>div>div\")\n",
    "    for j in range(6):\n",
    "        pp.send_keys(Keys.END)\n",
    "        time.sleep(2)\n",
    "\n",
    "    love = driver.find_elements(By.CSS_SELECTOR, \"div[class ='b20td4e0 muag1w35']>div\")\n",
    "\n",
    "    for i in range(len(love)-1):\n",
    "        ol = love[i].find_element(By.CSS_SELECTOR, \"span\").text\n",
    "        grouplist.append(ol)\n",
    "        time.sleep\n",
    "        \n",
    "        if (i == len(love)-2):\n",
    "            qq = int(input(\"do yo want to continue?:\"))\n",
    "            if (qq == 1):\n",
    "                pass\n",
    "                print(grouplist)\n",
    "    \n",
    "    return grouplist"
   ]
  },
  {
   "cell_type": "code",
   "execution_count": null,
   "metadata": {},
   "outputs": [],
   "source": [
    "grouploop(driver,grouplist)"
   ]
  },
  {
   "cell_type": "code",
   "execution_count": 31,
   "metadata": {},
   "outputs": [],
   "source": [
    "import emoji"
   ]
  },
  {
   "cell_type": "code",
   "execution_count": 32,
   "metadata": {},
   "outputs": [
    {
     "name": "stdout",
     "output_type": "stream",
     "text": [
      "{'love': 10, 'hate': 5}\n"
     ]
    }
   ],
   "source": [
    "gr = {}\n",
    "gr['love'] = 10\n",
    "gr['hate'] = 5\n",
    "print(gr)"
   ]
  },
  {
   "cell_type": "code",
   "execution_count": 33,
   "metadata": {},
   "outputs": [
    {
     "name": "stdout",
     "output_type": "stream",
     "text": [
      " 9 groups have emojis\n",
      " 108 don't have emojis\n",
      "[30, 34, 37, 39, 43, 71, 83, 85, 94]\n"
     ]
    }
   ],
   "source": [
    "search = driver.find_element(By.CSS_SELECTOR, \"input[aria-label='Rechercher des groupes']\")\n",
    "\n",
    "lol = 0\n",
    "mom = 0\n",
    "element = []\n",
    "for g in range(len(grouplist)):\n",
    "    count = 0\n",
    "    s = {}\n",
    "    for i in grouplist[g]:\n",
    "        if i in emoji.EMOJI_DATA:\n",
    "            count += 1\n",
    "    if (count > 0):\n",
    "        lol += 1\n",
    "        element.append(g)\n",
    "\n",
    "        #Print the list of the group that do have emoji\n",
    "        #print(f\"The group {grouplist[g]} has {count} emojis. We cannot send keys\")\n",
    "        \n",
    "    else:\n",
    "        mom += 1\n",
    "\n",
    "        #print the list of group that do not have emoji\n",
    "        #print(grouplist[g])\n",
    "print(f\" {lol} groups have emojis\")\n",
    "print(f\" {mom} don't have emojis\")\n",
    "print(element)\n",
    "        #search.send_keys(g)\n",
    "\n",
    "\n"
   ]
  },
  {
   "cell_type": "code",
   "execution_count": 34,
   "metadata": {},
   "outputs": [
    {
     "name": "stdout",
     "output_type": "stream",
     "text": [
      "This group has\n",
      "This group has\n",
      "This group has\n",
      "This group has\n",
      "This group has\n",
      "This group has\n",
      "This group has\n",
      "This group has\n",
      "This group has\n"
     ]
    }
   ],
   "source": [
    "#search = driver.find_element(By.CSS_SELECTOR, \"input[aria-label='Rechercher des groupes']\")\n",
    "\n",
    "lol = 0\n",
    "mom = 0\n",
    "element = []\n",
    "for g in range(len(grouplist)):\n",
    "    count = 0\n",
    "    s = {}\n",
    "    for i in grouplist[g]:\n",
    "        if i in emoji.EMOJI_DATA:\n",
    "            count += 1\n",
    "    if (count > 0):\n",
    "        print(\"This group has\")\n",
    "        #search.send_keys(g)\n",
    "\n",
    "\n"
   ]
  },
  {
   "cell_type": "code",
   "execution_count": 251,
   "metadata": {},
   "outputs": [
    {
     "data": {
      "text/plain": [
       "'Bon coin de vente et achat à Kinshasa iPhone, Samsung, itel, techno ....'"
      ]
     },
     "execution_count": 251,
     "metadata": {},
     "output_type": "execute_result"
    }
   ],
   "source": [
    "search.get_attribute('value')"
   ]
  },
  {
   "cell_type": "code",
   "execution_count": 172,
   "metadata": {},
   "outputs": [],
   "source": [
    "driver.find_element(By.CSS_SELECTOR, \"div[class ='b20td4e0 muag1w35']>div>div\").click()"
   ]
  },
  {
   "cell_type": "code",
   "execution_count": 264,
   "metadata": {},
   "outputs": [],
   "source": [
    "search = driver.find_element(By.CSS_SELECTOR, \"input[aria-label='Rechercher des groupes']\")\n",
    "\n",
    "if (search.get_attribute('value') !=''):\n",
    "    search.send_keys(Keys.CONTROL, 'a')\n",
    "    time.sleep(1)\n",
    "    search.send_keys(Keys.DELETE)\n",
    "    time.sleep(1)\n",
    "    \n",
    "\n",
    "g = random.randint(0, len(grouplist))\n",
    "if g in element:\n",
    "    print(\"This element has emoji cannot print\")\n",
    "else:\n",
    "    search.send_keys(grouplist[g][:30])"
   ]
  },
  {
   "cell_type": "code",
   "execution_count": null,
   "metadata": {},
   "outputs": [],
   "source": [
    "t = driver.find_elements(By.CSS_SELECTOR, \"div[class ='b20td4e0 muag1w35']>div\")\n",
    "\n",
    "print(len(t))\n",
    "for i in range(len(t)):\n",
    "    print(f\" group {i+1}: {t[i].text}\")\n"
   ]
  },
  {
   "cell_type": "code",
   "execution_count": 259,
   "metadata": {},
   "outputs": [],
   "source": [
    "import emoji"
   ]
  },
  {
   "cell_type": "code",
   "execution_count": null,
   "metadata": {},
   "outputs": [],
   "source": [
    "grouplist\n",
    "\n",
    "g = grouplist[30]\n",
    "for i in g:\n",
    "    if (i in emoji.EMOJI_DATA):\n",
    "        print(f'This is an emoji {i}')\n",
    "    else:\n",
    "        print(\"nope\")"
   ]
  },
  {
   "cell_type": "code",
   "execution_count": 77,
   "metadata": {},
   "outputs": [],
   "source": [
    "\n",
    "def tsearch(driver, grouplist, n):\n",
    "    time.sleep(2)\n",
    "    v = driver.find_element(By.TAG_NAME, \"html\")\n",
    "\n",
    "    search = driver.find_element(By.CSS_SELECTOR, \"input[aria-label='Rechercher des groupes']\")\n",
    "    if (search.get_attribute('value') !=''):\n",
    "        search.send_keys(Keys.CONTROL, 'a')\n",
    "        time.sleep(1)\n",
    "        search.send_keys(Keys.DELETE)\n",
    "        time.sleep(1)\n",
    "    try:\n",
    "        search.send_keys(grouplist[n][:30])\n",
    "        time.sleep(3)\n",
    "        lo = driver.find_element(By.CSS_SELECTOR, \"div[class='b20td4e0 muag1w35']>div>div\")\n",
    "        lo.click()\n",
    "    except WebDriverException:\n",
    "        pass\n",
    "    "
   ]
  },
  {
   "cell_type": "code",
   "execution_count": 63,
   "metadata": {},
   "outputs": [],
   "source": [
    "tsearch(driver, grouplist, 2)"
   ]
  },
  {
   "cell_type": "code",
   "execution_count": 39,
   "metadata": {},
   "outputs": [],
   "source": [
    "def createpost(driver, descp):\n",
    "\n",
    "    time.sleep(2)\n",
    "    content = driver.find_element(By.CSS_SELECTOR, \"div[class = 'taijpn5t j83agx80']\")\n",
    "    ub = content.find_element(By.CSS_SELECTOR, \"br[data-text='true']\")\n",
    "    z = descp[random.randrange(0,len(descp)-1)]\n",
    "\n",
    "    if (ub.text != \"\"):\n",
    "        z = descp[random.randrange(0,len(descp)-1)]\n",
    "        print(z)\n",
    "        time.sleep(3)\n",
    "        ub.send_keys(z)\n",
    "        #webdriver.ActionChains(driver).send_keys(descp[random.randrange(0,len(descp))])\n",
    "    else:\n",
    "        time.sleep(2)\n",
    "        ub.send_keys(z)\n",
    "        #webdriver.ActionChains(driver).send_keys(descp[random.randrange(0,len(descp))])\n",
    "        ##content.send_keys(descp[random.randrange(0,len(descp))])\n",
    "\n"
   ]
  },
  {
   "cell_type": "code",
   "execution_count": 303,
   "metadata": {},
   "outputs": [],
   "source": [
    "createpost(driver, descp)"
   ]
  },
  {
   "cell_type": "code",
   "execution_count": 40,
   "metadata": {},
   "outputs": [],
   "source": [
    "def changeuser(driver):\n",
    "    time.sleep(4)\n",
    "    v = driver.find_element(By.TAG_NAME, \"html\")\n",
    "    v.send_keys(Keys.END)\n",
    "    time.sleep(2)\n",
    "    d = WebDriverWait(driver, 30).until(EC.element_to_be_clickable((By.CSS_SELECTOR,\"button[aria-label='Sélection du profil à utiliser']\")))\n",
    "    driver.find_element(By.CSS_SELECTOR,\"button[aria-label='Sélection du profil à utiliser']\").click()\n",
    "    #d.find_element(By.CSS_SELECTOR, \"button[aria-label='Sélection du profil à utiliser']\").click()\n",
    "    time.sleep(5)\n",
    "    driver.find_element(By. CSS_SELECTOR,  \"div[ class = 'j83agx80 cbu4d94t buofh1pr dd2scrzq srfxjet1']>div>div>div:nth-child(3)>div[role='menuitemradio']\").click()    \n",
    "    time.sleep(2)\n",
    "    #driver.find_element(By.CSS_SELECTOR, \"div[aria-label='Envoyez ceci à vos amis ou publiez-le sur votre journal.']\").click()\n",
    "\n",
    "    "
   ]
  },
  {
   "cell_type": "code",
   "execution_count": null,
   "metadata": {},
   "outputs": [],
   "source": [
    "changeuser(driver)"
   ]
  },
  {
   "cell_type": "code",
   "execution_count": 72,
   "metadata": {},
   "outputs": [],
   "source": [
    "def publish(driver):\n",
    "    time.sleep(3)\n",
    "    driver.find_element(By.CSS_SELECTOR, \"div[aria-label='Publier'\").click()"
   ]
  },
  {
   "cell_type": "code",
   "execution_count": 73,
   "metadata": {},
   "outputs": [],
   "source": [
    "publish(driver)"
   ]
  },
  {
   "cell_type": "code",
   "execution_count": 82,
   "metadata": {},
   "outputs": [],
   "source": [
    "driver.refresh()"
   ]
  },
  {
   "cell_type": "code",
   "execution_count": null,
   "metadata": {},
   "outputs": [],
   "source": [
    "def productpost(driver, gname, descp):\n",
    "    stock = []\n",
    "    while(True):\n",
    "        group = random.randint(1,len(gname))\n",
    "\n",
    "        driver.refresh()\n",
    "        time.sleep(3)\n",
    "        changeuser(driver)\n",
    "        \n",
    "        share(driver)\n",
    "        if (group in stock):\n",
    "            print(\"This group already exist\")\n",
    "        else:\n",
    "            try:\n",
    "                tsearch(driver, gname, group)\n",
    "                createpost(driver,descp)\n",
    "                publish(driver)\n",
    "                time.sleep(3)\n",
    "            except WebDriverException:\n",
    "                print(\"could not print the file\")\n",
    "                driver.refresh()\n",
    "                time.sleep(3)\n",
    "            stock.append(group)\n",
    "        \n",
    "        if (len(stock) > 100):\n",
    "            break\n",
    "\n",
    "        \n"
   ]
  },
  {
   "cell_type": "code",
   "execution_count": 244,
   "metadata": {},
   "outputs": [],
   "source": [
    "driver = webdriver.Chrome('C:/Users/maglo/OneDrive/Documents/chromedriver.exe',options=chrome_options)"
   ]
  },
  {
   "cell_type": "code",
   "execution_count": null,
   "metadata": {},
   "outputs": [
    {
     "name": "stdout",
     "output_type": "stream",
     "text": [
      "This group already exist\n",
      "This group already exist\n",
      "This group already exist\n",
      "This group already exist\n",
      "This group already exist\n",
      "This group already exist\n",
      "This group already exist\n",
      "This group already exist\n",
      "This group already exist\n",
      "This group already exist\n",
      "This group already exist\n",
      "This group already exist\n",
      "This group already exist\n",
      "This group already exist\n",
      "This group already exist\n",
      "This group already exist\n",
      "This group already exist\n",
      "This group already exist\n",
      "This group already exist\n",
      "This group already exist\n",
      "This group already exist\n"
     ]
    },
    {
     "ename": "Error",
     "evalue": "Canceled future for execute_request message before replies were done",
     "output_type": "error",
     "traceback": [
      "Error: Canceled future for execute_request message before replies were done",
      "at t.KernelShellFutureHandler.dispose (c:\\Users\\maglo\\.vscode\\extensions\\ms-toolsai.jupyter-2022.3.1000901801\\out\\extension.js:2:1204175)",
      "at c:\\Users\\maglo\\.vscode\\extensions\\ms-toolsai.jupyter-2022.3.1000901801\\out\\extension.js:2:1223227",
      "at Map.forEach (<anonymous>)",
      "at v._clearKernelState (c:\\Users\\maglo\\.vscode\\extensions\\ms-toolsai.jupyter-2022.3.1000901801\\out\\extension.js:2:1223212)",
      "at v.dispose (c:\\Users\\maglo\\.vscode\\extensions\\ms-toolsai.jupyter-2022.3.1000901801\\out\\extension.js:2:1216694)",
      "at c:\\Users\\maglo\\.vscode\\extensions\\ms-toolsai.jupyter-2022.3.1000901801\\out\\extension.js:2:533674",
      "at t.swallowExceptions (c:\\Users\\maglo\\.vscode\\extensions\\ms-toolsai.jupyter-2022.3.1000901801\\out\\extension.js:2:913059)",
      "at dispose (c:\\Users\\maglo\\.vscode\\extensions\\ms-toolsai.jupyter-2022.3.1000901801\\out\\extension.js:2:533652)",
      "at t.RawSession.dispose (c:\\Users\\maglo\\.vscode\\extensions\\ms-toolsai.jupyter-2022.3.1000901801\\out\\extension.js:2:537330)",
      "at runMicrotasks (<anonymous>)",
      "at processTicksAndRejections (node:internal/process/task_queues:96:5)"
     ]
    }
   ],
   "source": [
    "#main bot\n",
    "driver = webdriver.Chrome('C:/Users/maglo/OneDrive/Documents/chromedriver.exe',options=chrome_options)\n",
    "Log(driver)\n",
    "if (checklink(link)):\n",
    "    time.sleep(2)\n",
    "    for i in range(len(productLis)):\n",
    "        if i > 0:\n",
    "            driver.get(productLis[i])\n",
    "            if(checklink(productLis[i])):\n",
    "                productpost(driver, gname, descp)\n",
    "else:\n",
    "    \n",
    "    print(\"Could not login\")"
   ]
  },
  {
   "cell_type": "code",
   "execution_count": 47,
   "metadata": {},
   "outputs": [],
   "source": [
    "p  = driver.find_element(By. CSS_SELECTOR,  \"div[class ='tvfksri0 ozuftl9m']>div>div:nth-child(4)\")\n",
    "\n",
    "\n",
    "time.sleep(2)\n",
    "driver.find_element(By. CSS_SELECTOR,  \"div[ class = 'j83agx80 cbu4d94t buofh1pr dd2scrzq srfxjet1']>div>div>div:nth-child(3)>div[role='menuitemradio']\").click()\n"
   ]
  },
  {
   "cell_type": "code",
   "execution_count": 318,
   "metadata": {},
   "outputs": [
    {
     "name": "stdout",
     "output_type": "stream",
     "text": [
      "cannot print Teka pe Somba Nionso\n"
     ]
    },
    {
     "ename": "NoSuchElementException",
     "evalue": "Message: no such element: Unable to locate element: {\"method\":\"css selector\",\"selector\":\"div[class ='b20td4e0 muag1w35']>div\"}\n  (Session info: chrome=100.0.4896.88)\n",
     "output_type": "error",
     "traceback": [
      "\u001b[1;31m---------------------------------------------------------------------------\u001b[0m",
      "\u001b[1;31mNoSuchElementException\u001b[0m                    Traceback (most recent call last)",
      "\u001b[1;32mc:\\Users\\maglo\\OneDrive\\Documents\\CS\\MyProjects\\Python projects\\Web parser\\python scraper\\fb\\share.ipynb Cell 22'\u001b[0m in \u001b[0;36mtsearch\u001b[1;34m(driver, gname, n)\u001b[0m\n\u001b[0;32m     <a href='vscode-notebook-cell:/c%3A/Users/maglo/OneDrive/Documents/CS/MyProjects/Python%20projects/Web%20parser/python%20scraper/fb/share.ipynb#ch0000015?line=9'>10</a>\u001b[0m     search\u001b[39m.\u001b[39msend_keys(gname[n][:\u001b[39m30\u001b[39m])\n\u001b[1;32m---> <a href='vscode-notebook-cell:/c%3A/Users/maglo/OneDrive/Documents/CS/MyProjects/Python%20projects/Web%20parser/python%20scraper/fb/share.ipynb#ch0000015?line=10'>11</a>\u001b[0m     driver\u001b[39m.\u001b[39;49mfind_element(By\u001b[39m.\u001b[39;49mCSS_SELECTOR, \u001b[39m\"\u001b[39;49m\u001b[39mdiv[class =\u001b[39;49m\u001b[39m'\u001b[39;49m\u001b[39mb20td4e0 muag1w35\u001b[39;49m\u001b[39m'\u001b[39;49m\u001b[39m]>div\u001b[39;49m\u001b[39m\"\u001b[39;49m)\u001b[39m.\u001b[39mclick()\n\u001b[0;32m     <a href='vscode-notebook-cell:/c%3A/Users/maglo/OneDrive/Documents/CS/MyProjects/Python%20projects/Web%20parser/python%20scraper/fb/share.ipynb#ch0000015?line=12'>13</a>\u001b[0m \u001b[39mexcept\u001b[39;00m WebDriverException:\n",
      "File \u001b[1;32m~\\miniconda3\\envs\\scraper\\lib\\site-packages\\selenium\\webdriver\\remote\\webdriver.py:976\u001b[0m, in \u001b[0;36mWebDriver.find_element\u001b[1;34m(self, by, value)\u001b[0m\n\u001b[0;32m    <a href='file:///c%3A/Users/maglo/miniconda3/envs/scraper/lib/site-packages/selenium/webdriver/remote/webdriver.py?line=974'>975</a>\u001b[0m         value \u001b[39m=\u001b[39m \u001b[39m'\u001b[39m\u001b[39m[name=\u001b[39m\u001b[39m\"\u001b[39m\u001b[39m%s\u001b[39;00m\u001b[39m\"\u001b[39m\u001b[39m]\u001b[39m\u001b[39m'\u001b[39m \u001b[39m%\u001b[39m value\n\u001b[1;32m--> <a href='file:///c%3A/Users/maglo/miniconda3/envs/scraper/lib/site-packages/selenium/webdriver/remote/webdriver.py?line=975'>976</a>\u001b[0m \u001b[39mreturn\u001b[39;00m \u001b[39mself\u001b[39;49m\u001b[39m.\u001b[39;49mexecute(Command\u001b[39m.\u001b[39;49mFIND_ELEMENT, {\n\u001b[0;32m    <a href='file:///c%3A/Users/maglo/miniconda3/envs/scraper/lib/site-packages/selenium/webdriver/remote/webdriver.py?line=976'>977</a>\u001b[0m     \u001b[39m'\u001b[39;49m\u001b[39musing\u001b[39;49m\u001b[39m'\u001b[39;49m: by,\n\u001b[0;32m    <a href='file:///c%3A/Users/maglo/miniconda3/envs/scraper/lib/site-packages/selenium/webdriver/remote/webdriver.py?line=977'>978</a>\u001b[0m     \u001b[39m'\u001b[39;49m\u001b[39mvalue\u001b[39;49m\u001b[39m'\u001b[39;49m: value})[\u001b[39m'\u001b[39m\u001b[39mvalue\u001b[39m\u001b[39m'\u001b[39m]\n",
      "File \u001b[1;32m~\\miniconda3\\envs\\scraper\\lib\\site-packages\\selenium\\webdriver\\remote\\webdriver.py:321\u001b[0m, in \u001b[0;36mWebDriver.execute\u001b[1;34m(self, driver_command, params)\u001b[0m\n\u001b[0;32m    <a href='file:///c%3A/Users/maglo/miniconda3/envs/scraper/lib/site-packages/selenium/webdriver/remote/webdriver.py?line=319'>320</a>\u001b[0m \u001b[39mif\u001b[39;00m response:\n\u001b[1;32m--> <a href='file:///c%3A/Users/maglo/miniconda3/envs/scraper/lib/site-packages/selenium/webdriver/remote/webdriver.py?line=320'>321</a>\u001b[0m     \u001b[39mself\u001b[39;49m\u001b[39m.\u001b[39;49merror_handler\u001b[39m.\u001b[39;49mcheck_response(response)\n\u001b[0;32m    <a href='file:///c%3A/Users/maglo/miniconda3/envs/scraper/lib/site-packages/selenium/webdriver/remote/webdriver.py?line=321'>322</a>\u001b[0m     response[\u001b[39m'\u001b[39m\u001b[39mvalue\u001b[39m\u001b[39m'\u001b[39m] \u001b[39m=\u001b[39m \u001b[39mself\u001b[39m\u001b[39m.\u001b[39m_unwrap_value(\n\u001b[0;32m    <a href='file:///c%3A/Users/maglo/miniconda3/envs/scraper/lib/site-packages/selenium/webdriver/remote/webdriver.py?line=322'>323</a>\u001b[0m         response\u001b[39m.\u001b[39mget(\u001b[39m'\u001b[39m\u001b[39mvalue\u001b[39m\u001b[39m'\u001b[39m, \u001b[39mNone\u001b[39;00m))\n",
      "File \u001b[1;32m~\\miniconda3\\envs\\scraper\\lib\\site-packages\\selenium\\webdriver\\remote\\errorhandler.py:242\u001b[0m, in \u001b[0;36mErrorHandler.check_response\u001b[1;34m(self, response)\u001b[0m\n\u001b[0;32m    <a href='file:///c%3A/Users/maglo/miniconda3/envs/scraper/lib/site-packages/selenium/webdriver/remote/errorhandler.py?line=240'>241</a>\u001b[0m     \u001b[39mraise\u001b[39;00m exception_class(message, screen, stacktrace, alert_text)\n\u001b[1;32m--> <a href='file:///c%3A/Users/maglo/miniconda3/envs/scraper/lib/site-packages/selenium/webdriver/remote/errorhandler.py?line=241'>242</a>\u001b[0m \u001b[39mraise\u001b[39;00m exception_class(message, screen, stacktrace)\n",
      "\u001b[1;31mNoSuchElementException\u001b[0m: Message: no such element: Unable to locate element: {\"method\":\"css selector\",\"selector\":\"div[class ='b20td4e0 muag1w35']>div\"}\n  (Session info: chrome=100.0.4896.88)\n",
      "\nDuring handling of the above exception, another exception occurred:\n",
      "\u001b[1;31mNoSuchElementException\u001b[0m                    Traceback (most recent call last)",
      "\u001b[1;32mc:\\Users\\maglo\\OneDrive\\Documents\\CS\\MyProjects\\Python projects\\Web parser\\python scraper\\fb\\share.ipynb Cell 33'\u001b[0m in \u001b[0;36m<module>\u001b[1;34m\u001b[0m\n\u001b[1;32m----> <a href='vscode-notebook-cell:/c%3A/Users/maglo/OneDrive/Documents/CS/MyProjects/Python%20projects/Web%20parser/python%20scraper/fb/share.ipynb#ch0000071?line=0'>1</a>\u001b[0m tsearch(driver, gname, \u001b[39m3\u001b[39;49m)\n",
      "\u001b[1;32mc:\\Users\\maglo\\OneDrive\\Documents\\CS\\MyProjects\\Python projects\\Web parser\\python scraper\\fb\\share.ipynb Cell 22'\u001b[0m in \u001b[0;36mtsearch\u001b[1;34m(driver, gname, n)\u001b[0m\n\u001b[0;32m     <a href='vscode-notebook-cell:/c%3A/Users/maglo/OneDrive/Documents/CS/MyProjects/Python%20projects/Web%20parser/python%20scraper/fb/share.ipynb#ch0000015?line=12'>13</a>\u001b[0m \u001b[39mexcept\u001b[39;00m WebDriverException:\n\u001b[0;32m     <a href='vscode-notebook-cell:/c%3A/Users/maglo/OneDrive/Documents/CS/MyProjects/Python%20projects/Web%20parser/python%20scraper/fb/share.ipynb#ch0000015?line=13'>14</a>\u001b[0m     \u001b[39mprint\u001b[39m(\u001b[39mf\u001b[39m\u001b[39m\"\u001b[39m\u001b[39mcannot print \u001b[39m\u001b[39m{\u001b[39;00mgname[n]\u001b[39m}\u001b[39;00m\u001b[39m\"\u001b[39m)\n\u001b[1;32m---> <a href='vscode-notebook-cell:/c%3A/Users/maglo/OneDrive/Documents/CS/MyProjects/Python%20projects/Web%20parser/python%20scraper/fb/share.ipynb#ch0000015?line=14'>15</a>\u001b[0m     driver\u001b[39m.\u001b[39;49mfind_element(By\u001b[39m.\u001b[39;49mCSS_SELECTOR, \u001b[39m\"\u001b[39;49m\u001b[39mdiv[class =\u001b[39;49m\u001b[39m'\u001b[39;49m\u001b[39mb20td4e0 muag1w35\u001b[39;49m\u001b[39m'\u001b[39;49m\u001b[39m]>div\u001b[39;49m\u001b[39m\"\u001b[39;49m)\u001b[39m.\u001b[39mclick()\n",
      "File \u001b[1;32m~\\miniconda3\\envs\\scraper\\lib\\site-packages\\selenium\\webdriver\\remote\\webdriver.py:976\u001b[0m, in \u001b[0;36mWebDriver.find_element\u001b[1;34m(self, by, value)\u001b[0m\n\u001b[0;32m    <a href='file:///c%3A/Users/maglo/miniconda3/envs/scraper/lib/site-packages/selenium/webdriver/remote/webdriver.py?line=973'>974</a>\u001b[0m         by \u001b[39m=\u001b[39m By\u001b[39m.\u001b[39mCSS_SELECTOR\n\u001b[0;32m    <a href='file:///c%3A/Users/maglo/miniconda3/envs/scraper/lib/site-packages/selenium/webdriver/remote/webdriver.py?line=974'>975</a>\u001b[0m         value \u001b[39m=\u001b[39m \u001b[39m'\u001b[39m\u001b[39m[name=\u001b[39m\u001b[39m\"\u001b[39m\u001b[39m%s\u001b[39;00m\u001b[39m\"\u001b[39m\u001b[39m]\u001b[39m\u001b[39m'\u001b[39m \u001b[39m%\u001b[39m value\n\u001b[1;32m--> <a href='file:///c%3A/Users/maglo/miniconda3/envs/scraper/lib/site-packages/selenium/webdriver/remote/webdriver.py?line=975'>976</a>\u001b[0m \u001b[39mreturn\u001b[39;00m \u001b[39mself\u001b[39;49m\u001b[39m.\u001b[39;49mexecute(Command\u001b[39m.\u001b[39;49mFIND_ELEMENT, {\n\u001b[0;32m    <a href='file:///c%3A/Users/maglo/miniconda3/envs/scraper/lib/site-packages/selenium/webdriver/remote/webdriver.py?line=976'>977</a>\u001b[0m     \u001b[39m'\u001b[39;49m\u001b[39musing\u001b[39;49m\u001b[39m'\u001b[39;49m: by,\n\u001b[0;32m    <a href='file:///c%3A/Users/maglo/miniconda3/envs/scraper/lib/site-packages/selenium/webdriver/remote/webdriver.py?line=977'>978</a>\u001b[0m     \u001b[39m'\u001b[39;49m\u001b[39mvalue\u001b[39;49m\u001b[39m'\u001b[39;49m: value})[\u001b[39m'\u001b[39m\u001b[39mvalue\u001b[39m\u001b[39m'\u001b[39m]\n",
      "File \u001b[1;32m~\\miniconda3\\envs\\scraper\\lib\\site-packages\\selenium\\webdriver\\remote\\webdriver.py:321\u001b[0m, in \u001b[0;36mWebDriver.execute\u001b[1;34m(self, driver_command, params)\u001b[0m\n\u001b[0;32m    <a href='file:///c%3A/Users/maglo/miniconda3/envs/scraper/lib/site-packages/selenium/webdriver/remote/webdriver.py?line=318'>319</a>\u001b[0m response \u001b[39m=\u001b[39m \u001b[39mself\u001b[39m\u001b[39m.\u001b[39mcommand_executor\u001b[39m.\u001b[39mexecute(driver_command, params)\n\u001b[0;32m    <a href='file:///c%3A/Users/maglo/miniconda3/envs/scraper/lib/site-packages/selenium/webdriver/remote/webdriver.py?line=319'>320</a>\u001b[0m \u001b[39mif\u001b[39;00m response:\n\u001b[1;32m--> <a href='file:///c%3A/Users/maglo/miniconda3/envs/scraper/lib/site-packages/selenium/webdriver/remote/webdriver.py?line=320'>321</a>\u001b[0m     \u001b[39mself\u001b[39;49m\u001b[39m.\u001b[39;49merror_handler\u001b[39m.\u001b[39;49mcheck_response(response)\n\u001b[0;32m    <a href='file:///c%3A/Users/maglo/miniconda3/envs/scraper/lib/site-packages/selenium/webdriver/remote/webdriver.py?line=321'>322</a>\u001b[0m     response[\u001b[39m'\u001b[39m\u001b[39mvalue\u001b[39m\u001b[39m'\u001b[39m] \u001b[39m=\u001b[39m \u001b[39mself\u001b[39m\u001b[39m.\u001b[39m_unwrap_value(\n\u001b[0;32m    <a href='file:///c%3A/Users/maglo/miniconda3/envs/scraper/lib/site-packages/selenium/webdriver/remote/webdriver.py?line=322'>323</a>\u001b[0m         response\u001b[39m.\u001b[39mget(\u001b[39m'\u001b[39m\u001b[39mvalue\u001b[39m\u001b[39m'\u001b[39m, \u001b[39mNone\u001b[39;00m))\n\u001b[0;32m    <a href='file:///c%3A/Users/maglo/miniconda3/envs/scraper/lib/site-packages/selenium/webdriver/remote/webdriver.py?line=323'>324</a>\u001b[0m     \u001b[39mreturn\u001b[39;00m response\n",
      "File \u001b[1;32m~\\miniconda3\\envs\\scraper\\lib\\site-packages\\selenium\\webdriver\\remote\\errorhandler.py:242\u001b[0m, in \u001b[0;36mErrorHandler.check_response\u001b[1;34m(self, response)\u001b[0m\n\u001b[0;32m    <a href='file:///c%3A/Users/maglo/miniconda3/envs/scraper/lib/site-packages/selenium/webdriver/remote/errorhandler.py?line=239'>240</a>\u001b[0m         alert_text \u001b[39m=\u001b[39m value[\u001b[39m'\u001b[39m\u001b[39malert\u001b[39m\u001b[39m'\u001b[39m]\u001b[39m.\u001b[39mget(\u001b[39m'\u001b[39m\u001b[39mtext\u001b[39m\u001b[39m'\u001b[39m)\n\u001b[0;32m    <a href='file:///c%3A/Users/maglo/miniconda3/envs/scraper/lib/site-packages/selenium/webdriver/remote/errorhandler.py?line=240'>241</a>\u001b[0m     \u001b[39mraise\u001b[39;00m exception_class(message, screen, stacktrace, alert_text)\n\u001b[1;32m--> <a href='file:///c%3A/Users/maglo/miniconda3/envs/scraper/lib/site-packages/selenium/webdriver/remote/errorhandler.py?line=241'>242</a>\u001b[0m \u001b[39mraise\u001b[39;00m exception_class(message, screen, stacktrace)\n",
      "\u001b[1;31mNoSuchElementException\u001b[0m: Message: no such element: Unable to locate element: {\"method\":\"css selector\",\"selector\":\"div[class ='b20td4e0 muag1w35']>div\"}\n  (Session info: chrome=100.0.4896.88)\n"
     ]
    }
   ],
   "source": [
    "tsearch(driver, gname, 3)"
   ]
  },
  {
   "cell_type": "code",
   "execution_count": null,
   "metadata": {},
   "outputs": [],
   "source": [
    "productLis"
   ]
  },
  {
   "cell_type": "code",
   "execution_count": 106,
   "metadata": {},
   "outputs": [
    {
     "data": {
      "text/plain": [
       "['Je suis chaud.\\nJe vends a Kinshasa et le prix est discutable.\\n@wearewepo',\n",
       " \"Produits originaux et des prix discutables. Jettez un coup d'oeil sur notre page WEPO pour plus de produits\",\n",
       " \"Vous cherchez des phones d'occasions et des prix discutables? Visitez notre page WEPO\",\n",
       " 'En savoir plus sur notre page WEPO. Produits dispo à Kin',\n",
       " 'Bonne qualité, bon prix. WEPO']"
      ]
     },
     "execution_count": 106,
     "metadata": {},
     "output_type": "execute_result"
    }
   ],
   "source": [
    "descp"
   ]
  },
  {
   "cell_type": "code",
   "execution_count": null,
   "metadata": {},
   "outputs": [],
   "source": []
  },
  {
   "cell_type": "code",
   "execution_count": 93,
   "metadata": {},
   "outputs": [],
   "source": [
    "webdriver.ActionChains(driver)"
   ]
  },
  {
   "cell_type": "code",
   "execution_count": 111,
   "metadata": {},
   "outputs": [],
   "source": []
  },
  {
   "cell_type": "code",
   "execution_count": 23,
   "metadata": {},
   "outputs": [],
   "source": [
    "import re"
   ]
  },
  {
   "cell_type": "code",
   "execution_count": 80,
   "metadata": {},
   "outputs": [
    {
     "data": {
      "text/html": [
       "<div>\n",
       "<style scoped>\n",
       "    .dataframe tbody tr th:only-of-type {\n",
       "        vertical-align: middle;\n",
       "    }\n",
       "\n",
       "    .dataframe tbody tr th {\n",
       "        vertical-align: top;\n",
       "    }\n",
       "\n",
       "    .dataframe thead th {\n",
       "        text-align: right;\n",
       "    }\n",
       "</style>\n",
       "<table border=\"1\" class=\"dataframe\">\n",
       "  <thead>\n",
       "    <tr style=\"text-align: right;\">\n",
       "      <th></th>\n",
       "      <th>names</th>\n",
       "    </tr>\n",
       "  </thead>\n",
       "  <tbody>\n",
       "    <tr>\n",
       "      <th>0</th>\n",
       "      <td>Teka somba en ligne</td>\n",
       "    </tr>\n",
       "    <tr>\n",
       "      <th>1</th>\n",
       "      <td>TEKA, SOMBA TSHOMBO NA PRIX MANGONDO �����</td>\n",
       "    </tr>\n",
       "    <tr>\n",
       "      <th>2</th>\n",
       "      <td>BILOKOS 💯 %⛸️🚔🛴🚲🚿🎹🎻</td>\n",
       "    </tr>\n",
       "    <tr>\n",
       "      <th>3</th>\n",
       "      <td>Teka pe Somba Nionso</td>\n",
       "    </tr>\n",
       "    <tr>\n",
       "      <th>4</th>\n",
       "      <td>RDC BUSINESS VENTE ET ACHAT EN LIGNE</td>\n",
       "    </tr>\n",
       "  </tbody>\n",
       "</table>\n",
       "</div>"
      ],
      "text/plain": [
       "                                        names\n",
       "0                         Teka somba en ligne\n",
       "1  TEKA, SOMBA TSHOMBO NA PRIX MANGONDO �����\n",
       "2                         BILOKOS 💯 %⛸️🚔🛴🚲🚿🎹🎻\n",
       "3                        Teka pe Somba Nionso\n",
       "4        RDC BUSINESS VENTE ET ACHAT EN LIGNE"
      ]
     },
     "execution_count": 80,
     "metadata": {},
     "output_type": "execute_result"
    }
   ],
   "source": [
    "df.head()"
   ]
  },
  {
   "cell_type": "code",
   "execution_count": 24,
   "metadata": {},
   "outputs": [],
   "source": [
    "emoji = re.compile(\"[\"\n",
    "    \"\\U0001F1E0-\\U0001F1FF\"  # flags (iOS)\n",
    "    \"\\U0001F300-\\U0001F5FF\"  # symbols & pictographs\n",
    "    \"\\U0001F600-\\U0001F64F\"  # emoticons\n",
    "    \"\\U0001F680-\\U0001F6FF\"  # transport & map symbols\n",
    "    \"\\U0001F700-\\U0001F77F\"  # alchemical symbols\n",
    "    \"\\U0001F780-\\U0001F7FF\"  # Geometric Shapes Extended\n",
    "    \"\\U0001F800-\\U0001F8FF\"  # Supplemental Arrows-C\n",
    "    \"\\U0001F900-\\U0001F9FF\"  # Supplemental Symbols and Pictographs\n",
    "    \"\\U0001FA00-\\U0001FA6F\"  # Chess Symbols\n",
    "    \"\\U0001FA70-\\U0001FAFF\"  # Symbols and Pictographs Extended-A\n",
    "    \"\\U00002702-\\U000027B0\"  # Dingbats\n",
    "    \"\\U000024C2-\\U0001F251\"\n",
    "    \"]+\", flags=re.UNICODE)\n",
    "\n"
   ]
  },
  {
   "cell_type": "code",
   "execution_count": null,
   "metadata": {},
   "outputs": [],
   "source": [
    "for i in df['names']:\n",
    "\n",
    "    print(emoji.sub(r'', i))"
   ]
  },
  {
   "cell_type": "code",
   "execution_count": 102,
   "metadata": {},
   "outputs": [
    {
     "name": "stdout",
     "output_type": "stream",
     "text": [
      "🉑\n"
     ]
    }
   ],
   "source": [
    "print(\"\\U0001F251\")"
   ]
  },
  {
   "cell_type": "code",
   "execution_count": 68,
   "metadata": {},
   "outputs": [
    {
     "name": "stdout",
     "output_type": "stream",
     "text": [
      "I\n",
      "There is no emoji in this sentence\n",
      " \n",
      "There is no emoji in this sentence\n",
      "a\n",
      "There is no emoji in this sentence\n",
      "m\n",
      "There is no emoji in this sentence\n",
      " \n",
      "There is no emoji in this sentence\n",
      "✨\n"
     ]
    }
   ],
   "source": [
    "a = \"I am ✨\"\n",
    "\n",
    "for s in a:\n",
    "    if s in EMOJI_DATA:\n",
    "        print(s)\n",
    "    else:\n",
    "        print(s)\n",
    "        print(\"There is no emoji in this sentence\")"
   ]
  },
  {
   "cell_type": "code",
   "execution_count": 105,
   "metadata": {},
   "outputs": [
    {
     "data": {
      "text/plain": [
       "b'\\\\u2728'"
      ]
     },
     "execution_count": 105,
     "metadata": {},
     "output_type": "execute_result"
    }
   ],
   "source": [
    "a ='✨'\n",
    "a.encode('unicode-escape')"
   ]
  },
  {
   "cell_type": "code",
   "execution_count": 6,
   "metadata": {},
   "outputs": [],
   "source": [
    "def show_name():\n",
    "    print(\"This computer belongs to Magloire Mukendi\")\n",
    "    print(\"Be careful\")"
   ]
  },
  {
   "cell_type": "code",
   "execution_count": 7,
   "metadata": {},
   "outputs": [
    {
     "name": "stdout",
     "output_type": "stream",
     "text": [
      "This computer belongs to Magloire Mukendi\n",
      "Be careful\n",
      "This computer belongs to Magloire Mukendi\n",
      "Be careful\n"
     ]
    },
    {
     "ename": "KeyboardInterrupt",
     "evalue": "",
     "output_type": "error",
     "traceback": [
      "\u001b[1;31m---------------------------------------------------------------------------\u001b[0m",
      "\u001b[1;31mKeyboardInterrupt\u001b[0m                         Traceback (most recent call last)",
      "\u001b[1;32mc:\\Users\\maglo\\OneDrive\\Documents\\CS\\MyProjects\\Python projects\\Web parser\\python scraper\\fb\\share.ipynb Cell 3'\u001b[0m in \u001b[0;36m<module>\u001b[1;34m\u001b[0m\n\u001b[0;32m      <a href='vscode-notebook-cell:/c%3A/Users/maglo/OneDrive/Documents/CS/MyProjects/Python%20projects/Web%20parser/python%20scraper/fb/share.ipynb#ch0000002?line=3'>4</a>\u001b[0m \u001b[39mwhile\u001b[39;00m(\u001b[39mTrue\u001b[39;00m):\n\u001b[0;32m      <a href='vscode-notebook-cell:/c%3A/Users/maglo/OneDrive/Documents/CS/MyProjects/Python%20projects/Web%20parser/python%20scraper/fb/share.ipynb#ch0000002?line=4'>5</a>\u001b[0m     schedule\u001b[39m.\u001b[39mrun_pending()\n\u001b[1;32m----> <a href='vscode-notebook-cell:/c%3A/Users/maglo/OneDrive/Documents/CS/MyProjects/Python%20projects/Web%20parser/python%20scraper/fb/share.ipynb#ch0000002?line=5'>6</a>\u001b[0m     time\u001b[39m.\u001b[39;49msleep(\u001b[39m1\u001b[39;49m)\n",
      "\u001b[1;31mKeyboardInterrupt\u001b[0m: "
     ]
    }
   ],
   "source": [
    "schedule.every(2).minutes.do(show_name)\n",
    "\n",
    "\n",
    "while(True):\n",
    "    schedule.run_pending()\n",
    "    time.sleep(1)"
   ]
  }
 ],
 "metadata": {
  "interpreter": {
   "hash": "24c4cfd38c48240475f237fce40144e0e9ef3e8792da9b0c1c107d7732638890"
  },
  "kernelspec": {
   "display_name": "Python 3.8.5 ('scraper')",
   "language": "python",
   "name": "python3"
  },
  "language_info": {
   "codemirror_mode": {
    "name": "ipython",
    "version": 3
   },
   "file_extension": ".py",
   "mimetype": "text/x-python",
   "name": "python",
   "nbconvert_exporter": "python",
   "pygments_lexer": "ipython3",
   "version": "3.8.5"
  },
  "orig_nbformat": 4
 },
 "nbformat": 4,
 "nbformat_minor": 2
}
