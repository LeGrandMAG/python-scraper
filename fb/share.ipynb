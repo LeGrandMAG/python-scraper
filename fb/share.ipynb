{
 "cells": [
  {
   "cell_type": "code",
   "execution_count": 1,
   "metadata": {},
   "outputs": [],
   "source": [
    "from selenium import webdriver\n",
    "from selenium.webdriver.common.keys import Keys\n",
    "from selenium.webdriver.support import expected_conditions as EC\n",
    "from selenium.webdriver.common.by import By\n",
    "from selenium.webdriver.support.wait import WebDriverWait\n",
    "import time\n",
    "import schedule\n",
    "import csv\n",
    "import pandas as pd\n",
    "import random"
   ]
  },
  {
   "cell_type": "code",
   "execution_count": 2,
   "metadata": {},
   "outputs": [],
   "source": [
    "rand = random.randrange"
   ]
  },
  {
   "cell_type": "code",
   "execution_count": 3,
   "metadata": {},
   "outputs": [],
   "source": [
    "df = pd.read_csv('telephone.csv')"
   ]
  },
  {
   "cell_type": "code",
   "execution_count": 5,
   "metadata": {},
   "outputs": [
    {
     "name": "stdout",
     "output_type": "stream",
     "text": [
      "                                     ZANDO ya KINSHASA\n",
      "0                                  Teka somba en ligne\n",
      "1           TEKA, SOMBA TSHOMBO NA PRIX MANGONDO �����\n",
      "2                                  BILOKOS 💯 %⛸️🚔🛴🚲🚿🎹🎻\n",
      "3                                 Teka pe Somba Nionso\n",
      "4                 RDC BUSINESS VENTE ET ACHAT EN LIGNE\n",
      "..                                                 ...\n",
      "112  À VENDRE, À ACHETER OU À DONNER À KINSHASA ET ...\n",
      "113                     VENTE ET ACHAT DES ORDINATEURS\n",
      "114                       TEKA-_SOMBA ( Coop en Ligne)\n",
      "115                          Les pro de l'informatique\n",
      "116                                     Wenze Na Poche\n",
      "\n",
      "[117 rows x 1 columns]\n"
     ]
    }
   ],
   "source": [
    "df = pd.read_csv('es.csv')\n",
    "print(df)"
   ]
  },
  {
   "cell_type": "code",
   "execution_count": 6,
   "metadata": {},
   "outputs": [],
   "source": [
    "df.columns = [\"names\"]\n",
    "gname = df['names']\n"
   ]
  },
  {
   "cell_type": "code",
   "execution_count": 7,
   "metadata": {},
   "outputs": [],
   "source": [
    "#setting up the link to use in the project\n",
    "productList = [\n",
    "    'https://mobile.facebook.com/story.php?story_fbid=163074876142690&id=101047079012137', \n",
    "    'https://mobile.facebook.com/story.php?story_fbid=163312619452249&id=101047079012137', \n",
    "    'https://mobile.facebook.com/story.php?story_fbid=163299339453577&id=101047079012137', \n",
    "    'https://mobile.facebook.com/story.php?story_fbid=163301649453346&id=101047079012137', \n",
    "    'https://mobile.facebook.com/story.php?story_fbid=163307819452729&id=101047079012137', \n",
    "    'https://mobile.facebook.com/story.php?story_fbid=163202182796626&id=101047079012137', \n",
    "    'https://mobile.facebook.com/story.php?story_fbid=163170099466501&id=101047079012137', \n",
    "    'https://mobile.facebook.com/story.php?story_fbid=163190889464422&id=101047079012137'\n",
    "]\n",
    "\n",
    "descp = [\n",
    "    \"Je suis chaud.Je vends a Kinshasa et le prix est discutable.wearewepo\",\n",
    "    \"Produits originaux et des prix discutables. Jettez un coup d'oeil sur notre page WEPO pour plus de produits\",\n",
    "    \"Vous cherchez des phones d'occasions et des prix discutables? Visitez notre page WEPO\",\n",
    "    \"En savoir plus sur notre page WEPO. Produits dispo à Kin\",\n",
    "    \"Bonne qualité, bon prix. WEPO\"\n",
    "]\n",
    "\n",
    "login = \"https://mobile.facebook.com/\"\n",
    "productLis = []\n",
    "h = \"https://www.\"\n",
    "for i in productList:\n",
    "    productLis.append(h + i[15:])\n",
    "\n",
    "username = 'info.sensmart@gmail.com'\n",
    "password = 'yeswecan'\n",
    "gname = df['names']\n",
    "\n"
   ]
  },
  {
   "cell_type": "code",
   "execution_count": 8,
   "metadata": {},
   "outputs": [
    {
     "data": {
      "text/plain": [
       "['https://www.facebook.com/story.php?story_fbid=163074876142690&id=101047079012137',\n",
       " 'https://www.facebook.com/story.php?story_fbid=163312619452249&id=101047079012137',\n",
       " 'https://www.facebook.com/story.php?story_fbid=163299339453577&id=101047079012137',\n",
       " 'https://www.facebook.com/story.php?story_fbid=163301649453346&id=101047079012137',\n",
       " 'https://www.facebook.com/story.php?story_fbid=163307819452729&id=101047079012137',\n",
       " 'https://www.facebook.com/story.php?story_fbid=163202182796626&id=101047079012137',\n",
       " 'https://www.facebook.com/story.php?story_fbid=163170099466501&id=101047079012137',\n",
       " 'https://www.facebook.com/story.php?story_fbid=163190889464422&id=101047079012137']"
      ]
     },
     "execution_count": 8,
     "metadata": {},
     "output_type": "execute_result"
    }
   ],
   "source": [
    "productLis"
   ]
  },
  {
   "cell_type": "code",
   "execution_count": 9,
   "metadata": {},
   "outputs": [
    {
     "data": {
      "text/plain": [
       "'facebook.com/story.php?story_fbid=163312619452249&id=101047079012137'"
      ]
     },
     "execution_count": 9,
     "metadata": {},
     "output_type": "execute_result"
    }
   ],
   "source": [
    "productList[1][15:]"
   ]
  },
  {
   "cell_type": "code",
   "execution_count": 11,
   "metadata": {},
   "outputs": [],
   "source": [
    "#setting up the environment to use in the project\n",
    "\n",
    "chrome_options = webdriver.ChromeOptions()\n",
    "prefs = {\"profile.default_content_setting_values.notifications\" : 2}\n",
    "chrome_options.add_experimental_option(\"prefs\",prefs)\n",
    "#chrome_options.add_argument('headless')"
   ]
  },
  {
   "cell_type": "code",
   "execution_count": 12,
   "metadata": {},
   "outputs": [],
   "source": [
    "#Launch the browser\n",
    "driver = webdriver.Chrome('C:/Users/maglo/OneDrive/Documents/chromedriver.exe',options=chrome_options)\n"
   ]
  },
  {
   "cell_type": "code",
   "execution_count": null,
   "metadata": {},
   "outputs": [],
   "source": [
    "#Go to facebook main page\n",
    "driver.get(login)"
   ]
  },
  {
   "cell_type": "code",
   "execution_count": 14,
   "metadata": {},
   "outputs": [],
   "source": [
    "def Log(driver):\n",
    "    driver.get(login)\n",
    "    time.sleep(2)\n",
    "    driver.find_element(By.TAG_NAME, \"input[id='m_login_email']\").send_keys(username)\n",
    "    driver.find_element(By.TAG_NAME, \"input[id='m_login_password']\").send_keys(password)\n",
    "    time.sleep(3)\n",
    "    driver.find_element(By.TAG_NAME, \"button[value='Log In']\").click()\n",
    "    "
   ]
  },
  {
   "cell_type": "code",
   "execution_count": null,
   "metadata": {},
   "outputs": [],
   "source": [
    "changeuser(driver)"
   ]
  },
  {
   "cell_type": "code",
   "execution_count": 19,
   "metadata": {},
   "outputs": [],
   "source": [
    "\n",
    "def share(driver):\n",
    "    time.sleep(2)\n",
    "    driver.find_element(By.CSS_SELECTOR, \"div[aria-label='Envoyez ceci à vos amis ou publiez-le sur votre journal.']\")\n",
    "    x = driver.find_element(By.CSS_SELECTOR, \"div[class='pybr56ya f10w8fjw']\")\n",
    "    time.sleep(2)\n",
    "    x.find_element(By.CSS_SELECTOR, 'div:nth-child(4)').click()"
   ]
  },
  {
   "cell_type": "code",
   "execution_count": 20,
   "metadata": {},
   "outputs": [],
   "source": [
    "link =\"https://mobile.facebook.com/login/save-device/?login_source=login#_=_\"\n",
    "\n",
    "\n",
    "def checklink(link):\n",
    "    d = WebDriverWait(driver, 30).until(EC.url_to_be(link))\n",
    "    return d\n"
   ]
  },
  {
   "cell_type": "code",
   "execution_count": 21,
   "metadata": {},
   "outputs": [],
   "source": [
    "\n",
    "def search(driver, gname, n):\n",
    "    time.sleep(2)\n",
    "    search = driver.find_element(By.CSS_SELECTOR, \"input[aria-label='Rechercher des groupes']\")\n",
    "    search.clear()\n",
    "    time.sleep(2)\n",
    "    search.send_keys(gname[n])\n"
   ]
  },
  {
   "cell_type": "code",
   "execution_count": 23,
   "metadata": {},
   "outputs": [],
   "source": [
    "def createpost(driver, descp):\n",
    "    content = driver.find_element(By.CSS_SELECTOR, \"div[aria-label='Créez une publication publique...'\")\n",
    "    if (content.text != \"\"):\n",
    "        time.sleep(2)\n",
    "        content.clear()\n",
    "        z = descp[random.randrange(0,len(descp)-1)]\n",
    "        print(z)\n",
    "        time.sleep(3)\n",
    "        content.send_keys(z)\n",
    "        #webdriver.ActionChains(driver).send_keys(descp[random.randrange(0,len(descp))])\n",
    "    else:\n",
    "        time.sleep(2)\n",
    "        content.send_keys(z)\n",
    "        #webdriver.ActionChains(driver).send_keys(descp[random.randrange(0,len(descp))])\n",
    "        ##content.send_keys(descp[random.randrange(0,len(descp))])\n",
    "\n"
   ]
  },
  {
   "cell_type": "code",
   "execution_count": 34,
   "metadata": {},
   "outputs": [],
   "source": [
    "def changeuser(driver):\n",
    "    time.sleep(4)\n",
    "    v = driver.find_element(By.TAG_NAME, \"html\")\n",
    "    v.send_keys(Keys.END)\n",
    "    WebDriverWait\n",
    "    d = WebDriverWait(driver, 30).until(EC.element_to_be_clickable(By.CSS_SELECTOR('button')))\n",
    "    driver.find_element(By.CSS_SELECTOR,\"button[aria-label='Sélection du profil à utiliser']\")\n",
    "    driver.find_element(By.CSS_SELECTOR, \"button[aria-label='Sélection du profil à utiliser']\").click()\n",
    "    time.sleep(3)\n",
    "    driver.find_element(By.CSS_SELECTOR, \"div[role='menuitemradio']\").click()\n",
    "    time.sleep(2)\n",
    "    #driver.find_element(By.CSS_SELECTOR, \"div[aria-label='Envoyez ceci à vos amis ou publiez-le sur votre journal.']\").click()\n",
    "\n",
    "    "
   ]
  },
  {
   "cell_type": "code",
   "execution_count": 35,
   "metadata": {},
   "outputs": [
    {
     "ename": "TypeError",
     "evalue": "'str' object is not callable",
     "output_type": "error",
     "traceback": [
      "\u001b[1;31m---------------------------------------------------------------------------\u001b[0m",
      "\u001b[1;31mTypeError\u001b[0m                                 Traceback (most recent call last)",
      "\u001b[1;32mc:\\Users\\maglo\\OneDrive\\Documents\\CS\\MyProjects\\Python projects\\Web parser\\python scraper\\fb\\share.ipynb Cell 19'\u001b[0m in \u001b[0;36m<module>\u001b[1;34m\u001b[0m\n\u001b[1;32m----> <a href='vscode-notebook-cell:/c%3A/Users/maglo/OneDrive/Documents/CS/MyProjects/Python%20projects/Web%20parser/python%20scraper/fb/share.ipynb#ch0000037?line=0'>1</a>\u001b[0m changeuser(driver)\n",
      "\u001b[1;32mc:\\Users\\maglo\\OneDrive\\Documents\\CS\\MyProjects\\Python projects\\Web parser\\python scraper\\fb\\share.ipynb Cell 18'\u001b[0m in \u001b[0;36mchangeuser\u001b[1;34m(driver)\u001b[0m\n\u001b[0;32m      <a href='vscode-notebook-cell:/c%3A/Users/maglo/OneDrive/Documents/CS/MyProjects/Python%20projects/Web%20parser/python%20scraper/fb/share.ipynb#ch0000012?line=3'>4</a>\u001b[0m v\u001b[39m.\u001b[39msend_keys(Keys\u001b[39m.\u001b[39mEND)\n\u001b[0;32m      <a href='vscode-notebook-cell:/c%3A/Users/maglo/OneDrive/Documents/CS/MyProjects/Python%20projects/Web%20parser/python%20scraper/fb/share.ipynb#ch0000012?line=4'>5</a>\u001b[0m WebDriverWait\n\u001b[1;32m----> <a href='vscode-notebook-cell:/c%3A/Users/maglo/OneDrive/Documents/CS/MyProjects/Python%20projects/Web%20parser/python%20scraper/fb/share.ipynb#ch0000012?line=5'>6</a>\u001b[0m d \u001b[39m=\u001b[39m WebDriverWait(driver, \u001b[39m30\u001b[39m)\u001b[39m.\u001b[39muntil(EC\u001b[39m.\u001b[39melement_to_be_clickable(By\u001b[39m.\u001b[39;49mCSS_SELECTOR(\u001b[39m'\u001b[39;49m\u001b[39mbutton\u001b[39;49m\u001b[39m'\u001b[39;49m)))\n\u001b[0;32m      <a href='vscode-notebook-cell:/c%3A/Users/maglo/OneDrive/Documents/CS/MyProjects/Python%20projects/Web%20parser/python%20scraper/fb/share.ipynb#ch0000012?line=6'>7</a>\u001b[0m driver\u001b[39m.\u001b[39mfind_element(By\u001b[39m.\u001b[39mCSS_SELECTOR,\u001b[39m\"\u001b[39m\u001b[39mbutton[aria-label=\u001b[39m\u001b[39m'\u001b[39m\u001b[39mSélection du profil à utiliser\u001b[39m\u001b[39m'\u001b[39m\u001b[39m]\u001b[39m\u001b[39m\"\u001b[39m)\n\u001b[0;32m      <a href='vscode-notebook-cell:/c%3A/Users/maglo/OneDrive/Documents/CS/MyProjects/Python%20projects/Web%20parser/python%20scraper/fb/share.ipynb#ch0000012?line=7'>8</a>\u001b[0m driver\u001b[39m.\u001b[39mfind_element(By\u001b[39m.\u001b[39mCSS_SELECTOR, \u001b[39m\"\u001b[39m\u001b[39mbutton[aria-label=\u001b[39m\u001b[39m'\u001b[39m\u001b[39mSélection du profil à utiliser\u001b[39m\u001b[39m'\u001b[39m\u001b[39m]\u001b[39m\u001b[39m\"\u001b[39m)\u001b[39m.\u001b[39mclick()\n",
      "\u001b[1;31mTypeError\u001b[0m: 'str' object is not callable"
     ]
    }
   ],
   "source": [
    "changeuser(driver)"
   ]
  },
  {
   "cell_type": "code",
   "execution_count": 25,
   "metadata": {},
   "outputs": [],
   "source": [
    "def publish():\n",
    "    time.sleep(3)\n",
    "    driver.find_element(By.CSS_SELECTOR, \"div[aria-label='Publier'\").click()"
   ]
  },
  {
   "cell_type": "code",
   "execution_count": 26,
   "metadata": {},
   "outputs": [],
   "source": [
    "def productpost(driver, gname, descp):\n",
    "    for n in range(len(gname)):\n",
    "        changeuser(driver)\n",
    "        share(driver)\n",
    "        search(driver, gname, n)\n",
    "        createpost(driver,descp)\n"
   ]
  },
  {
   "cell_type": "code",
   "execution_count": 244,
   "metadata": {},
   "outputs": [],
   "source": [
    "driver = webdriver.Chrome('C:/Users/maglo/OneDrive/Documents/chromedriver.exe',options=chrome_options)\n"
   ]
  },
  {
   "cell_type": "code",
   "execution_count": 263,
   "metadata": {},
   "outputs": [],
   "source": [
    "changeuser(driver)"
   ]
  },
  {
   "cell_type": "code",
   "execution_count": 27,
   "metadata": {},
   "outputs": [
    {
     "ename": "TypeError",
     "evalue": "'str' object is not callable",
     "output_type": "error",
     "traceback": [
      "\u001b[1;31m---------------------------------------------------------------------------\u001b[0m",
      "\u001b[1;31mTypeError\u001b[0m                                 Traceback (most recent call last)",
      "\u001b[1;32mc:\\Users\\maglo\\OneDrive\\Documents\\CS\\MyProjects\\Python projects\\Web parser\\python scraper\\fb\\share.ipynb Cell 23'\u001b[0m in \u001b[0;36m<module>\u001b[1;34m\u001b[0m\n\u001b[0;32m      <a href='vscode-notebook-cell:/c%3A/Users/maglo/OneDrive/Documents/CS/MyProjects/Python%20projects/Web%20parser/python%20scraper/fb/share.ipynb#ch0000022?line=6'>7</a>\u001b[0m         driver\u001b[39m.\u001b[39mget(productLis[i])\n\u001b[0;32m      <a href='vscode-notebook-cell:/c%3A/Users/maglo/OneDrive/Documents/CS/MyProjects/Python%20projects/Web%20parser/python%20scraper/fb/share.ipynb#ch0000022?line=7'>8</a>\u001b[0m         \u001b[39mif\u001b[39;00m(checklink(productLis[i])):\n\u001b[1;32m----> <a href='vscode-notebook-cell:/c%3A/Users/maglo/OneDrive/Documents/CS/MyProjects/Python%20projects/Web%20parser/python%20scraper/fb/share.ipynb#ch0000022?line=8'>9</a>\u001b[0m             productpost(driver, gname, descp)\n\u001b[0;32m     <a href='vscode-notebook-cell:/c%3A/Users/maglo/OneDrive/Documents/CS/MyProjects/Python%20projects/Web%20parser/python%20scraper/fb/share.ipynb#ch0000022?line=9'>10</a>\u001b[0m \u001b[39melse\u001b[39;00m:\n\u001b[0;32m     <a href='vscode-notebook-cell:/c%3A/Users/maglo/OneDrive/Documents/CS/MyProjects/Python%20projects/Web%20parser/python%20scraper/fb/share.ipynb#ch0000022?line=10'>11</a>\u001b[0m     \u001b[39mprint\u001b[39m(\u001b[39m\"\u001b[39m\u001b[39mCould not login\u001b[39m\u001b[39m\"\u001b[39m)\n",
      "\u001b[1;32mc:\\Users\\maglo\\OneDrive\\Documents\\CS\\MyProjects\\Python projects\\Web parser\\python scraper\\fb\\share.ipynb Cell 20'\u001b[0m in \u001b[0;36mproductpost\u001b[1;34m(driver, gname, descp)\u001b[0m\n\u001b[0;32m      <a href='vscode-notebook-cell:/c%3A/Users/maglo/OneDrive/Documents/CS/MyProjects/Python%20projects/Web%20parser/python%20scraper/fb/share.ipynb#ch0000019?line=0'>1</a>\u001b[0m \u001b[39mdef\u001b[39;00m \u001b[39mproductpost\u001b[39m(driver, gname, descp):\n\u001b[0;32m      <a href='vscode-notebook-cell:/c%3A/Users/maglo/OneDrive/Documents/CS/MyProjects/Python%20projects/Web%20parser/python%20scraper/fb/share.ipynb#ch0000019?line=1'>2</a>\u001b[0m     \u001b[39mfor\u001b[39;00m n \u001b[39min\u001b[39;00m \u001b[39mrange\u001b[39m(\u001b[39mlen\u001b[39m(gname)):\n\u001b[1;32m----> <a href='vscode-notebook-cell:/c%3A/Users/maglo/OneDrive/Documents/CS/MyProjects/Python%20projects/Web%20parser/python%20scraper/fb/share.ipynb#ch0000019?line=2'>3</a>\u001b[0m         changeuser(driver)\n\u001b[0;32m      <a href='vscode-notebook-cell:/c%3A/Users/maglo/OneDrive/Documents/CS/MyProjects/Python%20projects/Web%20parser/python%20scraper/fb/share.ipynb#ch0000019?line=3'>4</a>\u001b[0m         share(driver)\n\u001b[0;32m      <a href='vscode-notebook-cell:/c%3A/Users/maglo/OneDrive/Documents/CS/MyProjects/Python%20projects/Web%20parser/python%20scraper/fb/share.ipynb#ch0000019?line=4'>5</a>\u001b[0m         search(driver, gname, n)\n",
      "\u001b[1;32mc:\\Users\\maglo\\OneDrive\\Documents\\CS\\MyProjects\\Python projects\\Web parser\\python scraper\\fb\\share.ipynb Cell 18'\u001b[0m in \u001b[0;36mchangeuser\u001b[1;34m(driver)\u001b[0m\n\u001b[0;32m      <a href='vscode-notebook-cell:/c%3A/Users/maglo/OneDrive/Documents/CS/MyProjects/Python%20projects/Web%20parser/python%20scraper/fb/share.ipynb#ch0000012?line=3'>4</a>\u001b[0m v\u001b[39m.\u001b[39msend_keys(Keys\u001b[39m.\u001b[39mEND)\n\u001b[0;32m      <a href='vscode-notebook-cell:/c%3A/Users/maglo/OneDrive/Documents/CS/MyProjects/Python%20projects/Web%20parser/python%20scraper/fb/share.ipynb#ch0000012?line=4'>5</a>\u001b[0m WebDriverWait\n\u001b[1;32m----> <a href='vscode-notebook-cell:/c%3A/Users/maglo/OneDrive/Documents/CS/MyProjects/Python%20projects/Web%20parser/python%20scraper/fb/share.ipynb#ch0000012?line=5'>6</a>\u001b[0m d \u001b[39m=\u001b[39m WebDriverWait(driver, \u001b[39m30\u001b[39m)\u001b[39m.\u001b[39muntil(EC\u001b[39m.\u001b[39melement_to_be_clickable(By\u001b[39m.\u001b[39;49mCSS_SELECTOR(\u001b[39m\"\u001b[39;49m\u001b[39mbutton[aria-label=\u001b[39;49m\u001b[39m'\u001b[39;49m\u001b[39mSélection du profil à utiliser\u001b[39;49m\u001b[39m'\u001b[39;49m\u001b[39m]\u001b[39;49m\u001b[39m\"\u001b[39;49m)))\n\u001b[0;32m      <a href='vscode-notebook-cell:/c%3A/Users/maglo/OneDrive/Documents/CS/MyProjects/Python%20projects/Web%20parser/python%20scraper/fb/share.ipynb#ch0000012?line=6'>7</a>\u001b[0m driver\u001b[39m.\u001b[39mfind_element(By\u001b[39m.\u001b[39mCSS_SELECTOR, \u001b[39m\"\u001b[39m\u001b[39mbutton[aria-label=\u001b[39m\u001b[39m'\u001b[39m\u001b[39mSélection du profil à utiliser\u001b[39m\u001b[39m'\u001b[39m\u001b[39m]\u001b[39m\u001b[39m\"\u001b[39m)\u001b[39m.\u001b[39mclick()\n\u001b[0;32m      <a href='vscode-notebook-cell:/c%3A/Users/maglo/OneDrive/Documents/CS/MyProjects/Python%20projects/Web%20parser/python%20scraper/fb/share.ipynb#ch0000012?line=7'>8</a>\u001b[0m time\u001b[39m.\u001b[39msleep(\u001b[39m3\u001b[39m)\n",
      "\u001b[1;31mTypeError\u001b[0m: 'str' object is not callable"
     ]
    }
   ],
   "source": [
    "#main bot\n",
    "driver = webdriver.Chrome('C:/Users/maglo/OneDrive/Documents/chromedriver.exe',options=chrome_options)\n",
    "Log(driver)\n",
    "if (checklink(link)):\n",
    "    time.sleep(2)\n",
    "    for i in range(len(productLis)):\n",
    "        driver.get(productLis[i])\n",
    "        if(checklink(productLis[i])):\n",
    "            productpost(driver, gname, descp)\n",
    "else:\n",
    "    print(\"Could not login\")"
   ]
  },
  {
   "cell_type": "code",
   "execution_count": 238,
   "metadata": {},
   "outputs": [
    {
     "data": {
      "text/plain": [
       "['https://facebook.com/story.php?story_fbid=163074876142690&id=101047079012137',\n",
       " 'https://facebook.com/story.php?story_fbid=163312619452249&id=101047079012137',\n",
       " 'https://facebook.com/story.php?story_fbid=163299339453577&id=101047079012137',\n",
       " 'https://facebook.com/story.php?story_fbid=163301649453346&id=101047079012137',\n",
       " 'https://facebook.com/story.php?story_fbid=163307819452729&id=101047079012137',\n",
       " 'https://facebook.com/story.php?story_fbid=163202182796626&id=101047079012137',\n",
       " 'https://facebook.com/story.php?story_fbid=163170099466501&id=101047079012137',\n",
       " 'https://facebook.com/story.php?story_fbid=163190889464422&id=101047079012137']"
      ]
     },
     "execution_count": 238,
     "metadata": {},
     "output_type": "execute_result"
    }
   ],
   "source": [
    "productLis"
   ]
  },
  {
   "cell_type": "code",
   "execution_count": 106,
   "metadata": {},
   "outputs": [
    {
     "data": {
      "text/plain": [
       "['Je suis chaud.\\nJe vends a Kinshasa et le prix est discutable.\\n@wearewepo',\n",
       " \"Produits originaux et des prix discutables. Jettez un coup d'oeil sur notre page WEPO pour plus de produits\",\n",
       " \"Vous cherchez des phones d'occasions et des prix discutables? Visitez notre page WEPO\",\n",
       " 'En savoir plus sur notre page WEPO. Produits dispo à Kin',\n",
       " 'Bonne qualité, bon prix. WEPO']"
      ]
     },
     "execution_count": 106,
     "metadata": {},
     "output_type": "execute_result"
    }
   ],
   "source": [
    "descp"
   ]
  },
  {
   "cell_type": "code",
   "execution_count": null,
   "metadata": {},
   "outputs": [],
   "source": []
  },
  {
   "cell_type": "code",
   "execution_count": 93,
   "metadata": {},
   "outputs": [],
   "source": [
    "webdriver.ActionChains(driver)"
   ]
  },
  {
   "cell_type": "code",
   "execution_count": 111,
   "metadata": {},
   "outputs": [],
   "source": []
  },
  {
   "cell_type": "code",
   "execution_count": 23,
   "metadata": {},
   "outputs": [],
   "source": [
    "import re"
   ]
  },
  {
   "cell_type": "code",
   "execution_count": 80,
   "metadata": {},
   "outputs": [
    {
     "data": {
      "text/html": [
       "<div>\n",
       "<style scoped>\n",
       "    .dataframe tbody tr th:only-of-type {\n",
       "        vertical-align: middle;\n",
       "    }\n",
       "\n",
       "    .dataframe tbody tr th {\n",
       "        vertical-align: top;\n",
       "    }\n",
       "\n",
       "    .dataframe thead th {\n",
       "        text-align: right;\n",
       "    }\n",
       "</style>\n",
       "<table border=\"1\" class=\"dataframe\">\n",
       "  <thead>\n",
       "    <tr style=\"text-align: right;\">\n",
       "      <th></th>\n",
       "      <th>names</th>\n",
       "    </tr>\n",
       "  </thead>\n",
       "  <tbody>\n",
       "    <tr>\n",
       "      <th>0</th>\n",
       "      <td>Teka somba en ligne</td>\n",
       "    </tr>\n",
       "    <tr>\n",
       "      <th>1</th>\n",
       "      <td>TEKA, SOMBA TSHOMBO NA PRIX MANGONDO �����</td>\n",
       "    </tr>\n",
       "    <tr>\n",
       "      <th>2</th>\n",
       "      <td>BILOKOS 💯 %⛸️🚔🛴🚲🚿🎹🎻</td>\n",
       "    </tr>\n",
       "    <tr>\n",
       "      <th>3</th>\n",
       "      <td>Teka pe Somba Nionso</td>\n",
       "    </tr>\n",
       "    <tr>\n",
       "      <th>4</th>\n",
       "      <td>RDC BUSINESS VENTE ET ACHAT EN LIGNE</td>\n",
       "    </tr>\n",
       "  </tbody>\n",
       "</table>\n",
       "</div>"
      ],
      "text/plain": [
       "                                        names\n",
       "0                         Teka somba en ligne\n",
       "1  TEKA, SOMBA TSHOMBO NA PRIX MANGONDO �����\n",
       "2                         BILOKOS 💯 %⛸️🚔🛴🚲🚿🎹🎻\n",
       "3                        Teka pe Somba Nionso\n",
       "4        RDC BUSINESS VENTE ET ACHAT EN LIGNE"
      ]
     },
     "execution_count": 80,
     "metadata": {},
     "output_type": "execute_result"
    }
   ],
   "source": [
    "df.head()"
   ]
  },
  {
   "cell_type": "code",
   "execution_count": 24,
   "metadata": {},
   "outputs": [],
   "source": [
    "emoji = re.compile(\"[\"\n",
    "    \"\\U0001F1E0-\\U0001F1FF\"  # flags (iOS)\n",
    "    \"\\U0001F300-\\U0001F5FF\"  # symbols & pictographs\n",
    "    \"\\U0001F600-\\U0001F64F\"  # emoticons\n",
    "    \"\\U0001F680-\\U0001F6FF\"  # transport & map symbols\n",
    "    \"\\U0001F700-\\U0001F77F\"  # alchemical symbols\n",
    "    \"\\U0001F780-\\U0001F7FF\"  # Geometric Shapes Extended\n",
    "    \"\\U0001F800-\\U0001F8FF\"  # Supplemental Arrows-C\n",
    "    \"\\U0001F900-\\U0001F9FF\"  # Supplemental Symbols and Pictographs\n",
    "    \"\\U0001FA00-\\U0001FA6F\"  # Chess Symbols\n",
    "    \"\\U0001FA70-\\U0001FAFF\"  # Symbols and Pictographs Extended-A\n",
    "    \"\\U00002702-\\U000027B0\"  # Dingbats\n",
    "    \"\\U000024C2-\\U0001F251\"\n",
    "    \"]+\", flags=re.UNICODE)\n",
    "\n"
   ]
  },
  {
   "cell_type": "code",
   "execution_count": null,
   "metadata": {},
   "outputs": [],
   "source": [
    "for i in df['names']:\n",
    "\n",
    "    print(emoji.sub(r'', i))"
   ]
  },
  {
   "cell_type": "code",
   "execution_count": 102,
   "metadata": {},
   "outputs": [
    {
     "name": "stdout",
     "output_type": "stream",
     "text": [
      "🉑\n"
     ]
    }
   ],
   "source": [
    "print(\"\\U0001F251\")"
   ]
  },
  {
   "cell_type": "code",
   "execution_count": 68,
   "metadata": {},
   "outputs": [
    {
     "name": "stdout",
     "output_type": "stream",
     "text": [
      "I\n",
      "There is no emoji in this sentence\n",
      " \n",
      "There is no emoji in this sentence\n",
      "a\n",
      "There is no emoji in this sentence\n",
      "m\n",
      "There is no emoji in this sentence\n",
      " \n",
      "There is no emoji in this sentence\n",
      "✨\n"
     ]
    }
   ],
   "source": [
    "a = \"I am ✨\"\n",
    "\n",
    "for s in a:\n",
    "    if s in EMOJI_DATA:\n",
    "        print(s)\n",
    "    else:\n",
    "        print(s)\n",
    "        print(\"There is no emoji in this sentence\")"
   ]
  },
  {
   "cell_type": "code",
   "execution_count": 105,
   "metadata": {},
   "outputs": [
    {
     "data": {
      "text/plain": [
       "b'\\\\u2728'"
      ]
     },
     "execution_count": 105,
     "metadata": {},
     "output_type": "execute_result"
    }
   ],
   "source": [
    "a ='✨'\n",
    "a.encode('unicode-escape')"
   ]
  },
  {
   "cell_type": "code",
   "execution_count": 6,
   "metadata": {},
   "outputs": [],
   "source": [
    "def show_name():\n",
    "    print(\"This computer belongs to Magloire Mukendi\")\n",
    "    print(\"Be careful\")"
   ]
  },
  {
   "cell_type": "code",
   "execution_count": 7,
   "metadata": {},
   "outputs": [
    {
     "name": "stdout",
     "output_type": "stream",
     "text": [
      "This computer belongs to Magloire Mukendi\n",
      "Be careful\n",
      "This computer belongs to Magloire Mukendi\n",
      "Be careful\n"
     ]
    },
    {
     "ename": "KeyboardInterrupt",
     "evalue": "",
     "output_type": "error",
     "traceback": [
      "\u001b[1;31m---------------------------------------------------------------------------\u001b[0m",
      "\u001b[1;31mKeyboardInterrupt\u001b[0m                         Traceback (most recent call last)",
      "\u001b[1;32mc:\\Users\\maglo\\OneDrive\\Documents\\CS\\MyProjects\\Python projects\\Web parser\\python scraper\\fb\\share.ipynb Cell 3'\u001b[0m in \u001b[0;36m<module>\u001b[1;34m\u001b[0m\n\u001b[0;32m      <a href='vscode-notebook-cell:/c%3A/Users/maglo/OneDrive/Documents/CS/MyProjects/Python%20projects/Web%20parser/python%20scraper/fb/share.ipynb#ch0000002?line=3'>4</a>\u001b[0m \u001b[39mwhile\u001b[39;00m(\u001b[39mTrue\u001b[39;00m):\n\u001b[0;32m      <a href='vscode-notebook-cell:/c%3A/Users/maglo/OneDrive/Documents/CS/MyProjects/Python%20projects/Web%20parser/python%20scraper/fb/share.ipynb#ch0000002?line=4'>5</a>\u001b[0m     schedule\u001b[39m.\u001b[39mrun_pending()\n\u001b[1;32m----> <a href='vscode-notebook-cell:/c%3A/Users/maglo/OneDrive/Documents/CS/MyProjects/Python%20projects/Web%20parser/python%20scraper/fb/share.ipynb#ch0000002?line=5'>6</a>\u001b[0m     time\u001b[39m.\u001b[39;49msleep(\u001b[39m1\u001b[39;49m)\n",
      "\u001b[1;31mKeyboardInterrupt\u001b[0m: "
     ]
    }
   ],
   "source": [
    "schedule.every(2).minutes.do(show_name)\n",
    "\n",
    "\n",
    "while(True):\n",
    "    schedule.run_pending()\n",
    "    time.sleep(1)"
   ]
  }
 ],
 "metadata": {
  "interpreter": {
   "hash": "24c4cfd38c48240475f237fce40144e0e9ef3e8792da9b0c1c107d7732638890"
  },
  "kernelspec": {
   "display_name": "Python 3.8.5 ('scraper')",
   "language": "python",
   "name": "python3"
  },
  "language_info": {
   "codemirror_mode": {
    "name": "ipython",
    "version": 3
   },
   "file_extension": ".py",
   "mimetype": "text/x-python",
   "name": "python",
   "nbconvert_exporter": "python",
   "pygments_lexer": "ipython3",
   "version": "3.8.5"
  },
  "orig_nbformat": 4
 },
 "nbformat": 4,
 "nbformat_minor": 2
}
