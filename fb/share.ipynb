{
 "cells": [
  {
   "cell_type": "code",
   "execution_count": 2,
   "metadata": {},
   "outputs": [],
   "source": [
    "from selenium import webdriver\n",
    "from selenium.webdriver.common.keys import Keys\n",
    "from selenium.webdriver.support import expected_conditions as EC\n",
    "from selenium.webdriver.common.by import By\n",
    "from selenium.webdriver.support.wait import WebDriverWait\n",
    "import time\n",
    "import schedule\n",
    "import csv\n",
    "import pandas as pd\n",
    "import random"
   ]
  },
  {
   "cell_type": "code",
   "execution_count": 3,
   "metadata": {},
   "outputs": [],
   "source": [
    "#setting the different variables\n",
    "df = pd.read_csv('es.csv')\n",
    "df.columns = [\"names\"]\n",
    "gname = df['names']\n",
    "\n",
    "rand = random.randrange\n",
    "# setting up the link to use in the project\n",
    "productList = [\n",
    "    'https://mobile.facebook.com/story.php?story_fbid=163074876142690&id=101047079012137', \n",
    "    'https://mobile.facebook.com/story.php?story_fbid=163312619452249&id=101047079012137', \n",
    "    'https://mobile.facebook.com/story.php?story_fbid=163299339453577&id=101047079012137', \n",
    "    'https://mobile.facebook.com/story.php?story_fbid=163301649453346&id=101047079012137', \n",
    "    'https://mobile.facebook.com/story.php?story_fbid=163307819452729&id=101047079012137', \n",
    "    'https://mobile.facebook.com/story.php?story_fbid=163202182796626&id=101047079012137', \n",
    "    'https://mobile.facebook.com/story.php?story_fbid=163170099466501&id=101047079012137', \n",
    "    'https://mobile.facebook.com/story.php?story_fbid=163190889464422&id=101047079012137'\n",
    "]\n",
    "\n",
    "descp = [\n",
    "    \"Je suis chaud.Je vends a Kinshasa et le prix est discutable.wearewepo\",\n",
    "    \"Produits originaux et des prix discutables. Jettez un coup d'oeil sur notre page WEPO pour plus de produits\",\n",
    "    \"Vous cherchez des phones d'occasions et des prix discutables? Visitez notre page WEPO\",\n",
    "    \"En savoir plus sur notre page WEPO. Produits dispo à Kin\",\n",
    "    \"Bonne qualité, bon prix. WEPO\"\n",
    "]\n",
    "\n",
    "login = \"https://mobile.facebook.com/\"\n",
    "productLis = []\n",
    "h = \"https://www.\"\n",
    "for i in productList:\n",
    "    productLis.append(h + i[15:])\n",
    "\n",
    "username = 'info.sensmart@gmail.com'\n",
    "password = 'yeswecan'\n",
    "gname = df['names']\n",
    "\n"
   ]
  },
  {
   "cell_type": "code",
   "execution_count": 4,
   "metadata": {},
   "outputs": [],
   "source": [
    "#setting up the environment to use in the project\n",
    "\n",
    "chrome_options = webdriver.ChromeOptions()\n",
    "prefs = {\"profile.default_content_setting_values.notifications\" : 2}\n",
    "chrome_options.add_experimental_option(\"prefs\",prefs)\n",
    "#chrome_options.add_argument('headless')"
   ]
  },
  {
   "cell_type": "code",
   "execution_count": 5,
   "metadata": {},
   "outputs": [],
   "source": [
    "#Launch the browser\n",
    "driver = webdriver.Chrome('C:/Users/maglo/OneDrive/Documents/chromedriver.exe',options=chrome_options)\n"
   ]
  },
  {
   "cell_type": "code",
   "execution_count": 6,
   "metadata": {},
   "outputs": [],
   "source": [
    "#Go to facebook main page\n",
    "driver.get(login)"
   ]
  },
  {
   "cell_type": "code",
   "execution_count": 7,
   "metadata": {},
   "outputs": [],
   "source": [
    "def Log(driver):\n",
    "    driver.get(login)\n",
    "    time.sleep(2)\n",
    "    driver.find_element(By.TAG_NAME, \"input[id='m_login_email']\").send_keys(username)\n",
    "    driver.find_element(By.TAG_NAME, \"input[id='m_login_password']\").send_keys(password)\n",
    "    time.sleep(3)\n",
    "    driver.find_element(By.TAG_NAME, \"button[value='Log In']\").click()\n",
    "    "
   ]
  },
  {
   "cell_type": "code",
   "execution_count": 78,
   "metadata": {},
   "outputs": [],
   "source": [
    "\n",
    "def share(driver):\n",
    "    time.sleep(2)\n",
    "    driver.find_element(By. CSS_SELECTOR,  \"div[class ='tvfksri0 ozuftl9m']>div>div:nth-child(3)\").click()\n",
    "    time.sleep(2)\n",
    "    driver.find_element(By.CSS_SELECTOR, \"div[ class = 'o36gj0jk eg9m0zos d76ob5m9']>div>div>div>div:nth-child(4)\").click()\n",
    "\n"
   ]
  },
  {
   "cell_type": "code",
   "execution_count": 9,
   "metadata": {},
   "outputs": [],
   "source": [
    "link =\"https://mobile.facebook.com/login/save-device/?login_source=login#_=_\"\n",
    "\n",
    "\n",
    "def checklink(link):\n",
    "    d = WebDriverWait(driver, 30).until(EC.url_to_be(link))\n",
    "    return d\n"
   ]
  },
  {
   "cell_type": "code",
   "execution_count": 160,
   "metadata": {},
   "outputs": [],
   "source": [
    "grouplist = []"
   ]
  },
  {
   "cell_type": "code",
   "execution_count": 164,
   "metadata": {},
   "outputs": [],
   "source": [
    "def grouploop(driver,grouplist):\n",
    "    \n",
    "    pp = driver.find_element(By.CSS_SELECTOR, \"div[class ='b20td4e0 muag1w35']>div>div\")\n",
    "    for j in range(6):\n",
    "        pp.send_keys(Keys.END)\n",
    "        time.sleep(2)\n",
    "\n",
    "    love = driver.find_elements(By.CSS_SELECTOR, \"div[class ='b20td4e0 muag1w35']>div\")\n",
    "\n",
    "    for i in range(len(love)-1):\n",
    "        ol = love[i].find_element(By.CSS_SELECTOR, \"span\").text\n",
    "        grouplist.append(ol)\n",
    "        time.sleep\n",
    "        \n",
    "        if (i == len(love)-2):\n",
    "            qq = int(input(\"do yo want to continue?:\"))\n",
    "            if (qq == 1):\n",
    "                pass\n",
    "                print(grouplist)\n",
    "    \n",
    "    return grouplist"
   ]
  },
  {
   "cell_type": "code",
   "execution_count": null,
   "metadata": {},
   "outputs": [],
   "source": [
    "grouploop(driver,grouplist)"
   ]
  },
  {
   "cell_type": "code",
   "execution_count": 187,
   "metadata": {},
   "outputs": [],
   "source": [
    "import emoji"
   ]
  },
  {
   "cell_type": "code",
   "execution_count": 203,
   "metadata": {},
   "outputs": [
    {
     "name": "stdout",
     "output_type": "stream",
     "text": [
      "{'love': 10, 'hate': 5}\n"
     ]
    }
   ],
   "source": [
    "gr = {}\n",
    "gr['love'] = 10\n",
    "gr['hate'] = 5\n",
    "print(gr)"
   ]
  },
  {
   "cell_type": "code",
   "execution_count": 227,
   "metadata": {},
   "outputs": [
    {
     "name": "stdout",
     "output_type": "stream",
     "text": [
      " 9 groups have emojis\n",
      " 108 don't have emojis\n",
      "[30, 34, 37, 39, 43, 71, 83, 85, 94]\n"
     ]
    }
   ],
   "source": [
    "search = driver.find_element(By.CSS_SELECTOR, \"input[aria-label='Rechercher des groupes']\")\n",
    "\n",
    "lol = 0\n",
    "mom = 0\n",
    "element = []\n",
    "for g in range(len(grouplist)):\n",
    "    count = 0\n",
    "    s = {}\n",
    "    for i in grouplist[g]:\n",
    "        if i in emoji.EMOJI_DATA:\n",
    "            count += 1\n",
    "    if (count > 0):\n",
    "        lol += 1\n",
    "        element.append(g)\n",
    "\n",
    "        #Print the list of the group that do have emoji\n",
    "        #print(f\"The group {grouplist[g]} has {count} emojis. We cannot send keys\")\n",
    "        \n",
    "    else:\n",
    "        mom += 1\n",
    "\n",
    "        #print the list of group that do not have emoji\n",
    "        #print(grouplist[g])\n",
    "print(f\" {lol} groups have emojis\")\n",
    "print(f\" {mom} don't have emojis\")\n",
    "print(element)\n",
    "        #search.send_keys(g)\n",
    "\n",
    "\n"
   ]
  },
  {
   "cell_type": "code",
   "execution_count": null,
   "metadata": {},
   "outputs": [],
   "source": [
    "search = driver.find_element(By.CSS_SELECTOR, \"input[aria-label='Rechercher des groupes']\")\n",
    "\n",
    "lol = 0\n",
    "mom = 0\n",
    "element = []\n",
    "for g in range(len(grouplist)):\n",
    "    count = 0\n",
    "    s = {}\n",
    "    for i in grouplist[g]:\n",
    "        if i in emoji.EMOJI_DATA:\n",
    "            count += 1\n",
    "    if (count > 0):\n",
    "        print(\"This group has\")\n",
    "        #search.send_keys(g)\n",
    "\n",
    "\n"
   ]
  },
  {
   "cell_type": "code",
   "execution_count": 251,
   "metadata": {},
   "outputs": [
    {
     "data": {
      "text/plain": [
       "'Bon coin de vente et achat à Kinshasa iPhone, Samsung, itel, techno ....'"
      ]
     },
     "execution_count": 251,
     "metadata": {},
     "output_type": "execute_result"
    }
   ],
   "source": [
    "search.get_attribute('value')"
   ]
  },
  {
   "cell_type": "code",
   "execution_count": 256,
   "metadata": {},
   "outputs": [],
   "source": [
    "if (search.get_attribute('value') !=''):\n",
    "    search.send_keys(Keys.CONTROL, 'a')\n",
    "    time.sleep(1)\n",
    "    search.send_keys(Keys.DELETE)\n",
    "    time.sleep(1)\n",
    "    \n",
    "\n",
    "g = random.randint(0, len(grouplist))\n",
    "if g in element:\n",
    "    print(\"This element has emoji cannot print\")\n",
    "else:\n",
    "    search.send_keys(grouplist[g][:])"
   ]
  },
  {
   "cell_type": "code",
   "execution_count": 216,
   "metadata": {},
   "outputs": [
    {
     "ename": "WebDriverException",
     "evalue": "Message: unknown error: ChromeDriver only supports characters in the BMP\n  (Session info: chrome=100.0.4896.88)\n",
     "output_type": "error",
     "traceback": [
      "\u001b[1;31m---------------------------------------------------------------------------\u001b[0m",
      "\u001b[1;31mWebDriverException\u001b[0m                        Traceback (most recent call last)",
      "\u001b[1;32mc:\\Users\\maglo\\OneDrive\\Documents\\CS\\MyProjects\\Python projects\\Web parser\\python scraper\\fb\\share.ipynb Cell 16'\u001b[0m in \u001b[0;36m<module>\u001b[1;34m\u001b[0m\n\u001b[1;32m----> <a href='vscode-notebook-cell:/c%3A/Users/maglo/OneDrive/Documents/CS/MyProjects/Python%20projects/Web%20parser/python%20scraper/fb/share.ipynb#ch0000060?line=0'>1</a>\u001b[0m search\u001b[39m.\u001b[39;49msend_keys(element[\u001b[39m8\u001b[39;49m][\u001b[39m'\u001b[39;49m\u001b[39mname\u001b[39;49m\u001b[39m'\u001b[39;49m])\n",
      "File \u001b[1;32m~\\miniconda3\\envs\\scraper\\lib\\site-packages\\selenium\\webdriver\\remote\\webelement.py:477\u001b[0m, in \u001b[0;36mWebElement.send_keys\u001b[1;34m(self, *value)\u001b[0m\n\u001b[0;32m    <a href='file:///c%3A/Users/maglo/miniconda3/envs/scraper/lib/site-packages/selenium/webdriver/remote/webelement.py?line=473'>474</a>\u001b[0m     \u001b[39mif\u001b[39;00m local_file \u001b[39mis\u001b[39;00m \u001b[39mnot\u001b[39;00m \u001b[39mNone\u001b[39;00m:\n\u001b[0;32m    <a href='file:///c%3A/Users/maglo/miniconda3/envs/scraper/lib/site-packages/selenium/webdriver/remote/webelement.py?line=474'>475</a>\u001b[0m         value \u001b[39m=\u001b[39m \u001b[39mself\u001b[39m\u001b[39m.\u001b[39m_upload(local_file)\n\u001b[1;32m--> <a href='file:///c%3A/Users/maglo/miniconda3/envs/scraper/lib/site-packages/selenium/webdriver/remote/webelement.py?line=476'>477</a>\u001b[0m \u001b[39mself\u001b[39;49m\u001b[39m.\u001b[39;49m_execute(Command\u001b[39m.\u001b[39;49mSEND_KEYS_TO_ELEMENT,\n\u001b[0;32m    <a href='file:///c%3A/Users/maglo/miniconda3/envs/scraper/lib/site-packages/selenium/webdriver/remote/webelement.py?line=477'>478</a>\u001b[0m               {\u001b[39m'\u001b[39;49m\u001b[39mtext\u001b[39;49m\u001b[39m'\u001b[39;49m: \u001b[39m\"\u001b[39;49m\u001b[39m\"\u001b[39;49m\u001b[39m.\u001b[39;49mjoin(keys_to_typing(value)),\n\u001b[0;32m    <a href='file:///c%3A/Users/maglo/miniconda3/envs/scraper/lib/site-packages/selenium/webdriver/remote/webelement.py?line=478'>479</a>\u001b[0m                \u001b[39m'\u001b[39;49m\u001b[39mvalue\u001b[39;49m\u001b[39m'\u001b[39;49m: keys_to_typing(value)})\n",
      "File \u001b[1;32m~\\miniconda3\\envs\\scraper\\lib\\site-packages\\selenium\\webdriver\\remote\\webelement.py:633\u001b[0m, in \u001b[0;36mWebElement._execute\u001b[1;34m(self, command, params)\u001b[0m\n\u001b[0;32m    <a href='file:///c%3A/Users/maglo/miniconda3/envs/scraper/lib/site-packages/selenium/webdriver/remote/webelement.py?line=630'>631</a>\u001b[0m     params \u001b[39m=\u001b[39m {}\n\u001b[0;32m    <a href='file:///c%3A/Users/maglo/miniconda3/envs/scraper/lib/site-packages/selenium/webdriver/remote/webelement.py?line=631'>632</a>\u001b[0m params[\u001b[39m'\u001b[39m\u001b[39mid\u001b[39m\u001b[39m'\u001b[39m] \u001b[39m=\u001b[39m \u001b[39mself\u001b[39m\u001b[39m.\u001b[39m_id\n\u001b[1;32m--> <a href='file:///c%3A/Users/maglo/miniconda3/envs/scraper/lib/site-packages/selenium/webdriver/remote/webelement.py?line=632'>633</a>\u001b[0m \u001b[39mreturn\u001b[39;00m \u001b[39mself\u001b[39;49m\u001b[39m.\u001b[39;49m_parent\u001b[39m.\u001b[39;49mexecute(command, params)\n",
      "File \u001b[1;32m~\\miniconda3\\envs\\scraper\\lib\\site-packages\\selenium\\webdriver\\remote\\webdriver.py:321\u001b[0m, in \u001b[0;36mWebDriver.execute\u001b[1;34m(self, driver_command, params)\u001b[0m\n\u001b[0;32m    <a href='file:///c%3A/Users/maglo/miniconda3/envs/scraper/lib/site-packages/selenium/webdriver/remote/webdriver.py?line=318'>319</a>\u001b[0m response \u001b[39m=\u001b[39m \u001b[39mself\u001b[39m\u001b[39m.\u001b[39mcommand_executor\u001b[39m.\u001b[39mexecute(driver_command, params)\n\u001b[0;32m    <a href='file:///c%3A/Users/maglo/miniconda3/envs/scraper/lib/site-packages/selenium/webdriver/remote/webdriver.py?line=319'>320</a>\u001b[0m \u001b[39mif\u001b[39;00m response:\n\u001b[1;32m--> <a href='file:///c%3A/Users/maglo/miniconda3/envs/scraper/lib/site-packages/selenium/webdriver/remote/webdriver.py?line=320'>321</a>\u001b[0m     \u001b[39mself\u001b[39;49m\u001b[39m.\u001b[39;49merror_handler\u001b[39m.\u001b[39;49mcheck_response(response)\n\u001b[0;32m    <a href='file:///c%3A/Users/maglo/miniconda3/envs/scraper/lib/site-packages/selenium/webdriver/remote/webdriver.py?line=321'>322</a>\u001b[0m     response[\u001b[39m'\u001b[39m\u001b[39mvalue\u001b[39m\u001b[39m'\u001b[39m] \u001b[39m=\u001b[39m \u001b[39mself\u001b[39m\u001b[39m.\u001b[39m_unwrap_value(\n\u001b[0;32m    <a href='file:///c%3A/Users/maglo/miniconda3/envs/scraper/lib/site-packages/selenium/webdriver/remote/webdriver.py?line=322'>323</a>\u001b[0m         response\u001b[39m.\u001b[39mget(\u001b[39m'\u001b[39m\u001b[39mvalue\u001b[39m\u001b[39m'\u001b[39m, \u001b[39mNone\u001b[39;00m))\n\u001b[0;32m    <a href='file:///c%3A/Users/maglo/miniconda3/envs/scraper/lib/site-packages/selenium/webdriver/remote/webdriver.py?line=323'>324</a>\u001b[0m     \u001b[39mreturn\u001b[39;00m response\n",
      "File \u001b[1;32m~\\miniconda3\\envs\\scraper\\lib\\site-packages\\selenium\\webdriver\\remote\\errorhandler.py:242\u001b[0m, in \u001b[0;36mErrorHandler.check_response\u001b[1;34m(self, response)\u001b[0m\n\u001b[0;32m    <a href='file:///c%3A/Users/maglo/miniconda3/envs/scraper/lib/site-packages/selenium/webdriver/remote/errorhandler.py?line=239'>240</a>\u001b[0m         alert_text \u001b[39m=\u001b[39m value[\u001b[39m'\u001b[39m\u001b[39malert\u001b[39m\u001b[39m'\u001b[39m]\u001b[39m.\u001b[39mget(\u001b[39m'\u001b[39m\u001b[39mtext\u001b[39m\u001b[39m'\u001b[39m)\n\u001b[0;32m    <a href='file:///c%3A/Users/maglo/miniconda3/envs/scraper/lib/site-packages/selenium/webdriver/remote/errorhandler.py?line=240'>241</a>\u001b[0m     \u001b[39mraise\u001b[39;00m exception_class(message, screen, stacktrace, alert_text)\n\u001b[1;32m--> <a href='file:///c%3A/Users/maglo/miniconda3/envs/scraper/lib/site-packages/selenium/webdriver/remote/errorhandler.py?line=241'>242</a>\u001b[0m \u001b[39mraise\u001b[39;00m exception_class(message, screen, stacktrace)\n",
      "\u001b[1;31mWebDriverException\u001b[0m: Message: unknown error: ChromeDriver only supports characters in the BMP\n  (Session info: chrome=100.0.4896.88)\n"
     ]
    }
   ],
   "source": [
    "#search.send_keys(element[]['name'])"
   ]
  },
  {
   "cell_type": "code",
   "execution_count": 205,
   "metadata": {},
   "outputs": [
    {
     "data": {
      "text/plain": [
       "{'name': 'Vente De Iphone Moins Cher( Markus Toutterrain💪🏿✨✌️)', 'pos': 35}"
      ]
     },
     "execution_count": 205,
     "metadata": {},
     "output_type": "execute_result"
    }
   ],
   "source": [
    "element[1]"
   ]
  },
  {
   "cell_type": "code",
   "execution_count": 201,
   "metadata": {},
   "outputs": [],
   "source": [
    "emoElement = element"
   ]
  },
  {
   "cell_type": "code",
   "execution_count": 172,
   "metadata": {},
   "outputs": [],
   "source": [
    "driver.find_element(By.CSS_SELECTOR, \"div[class ='b20td4e0 muag1w35']>div>div\").click()"
   ]
  },
  {
   "cell_type": "code",
   "execution_count": null,
   "metadata": {},
   "outputs": [],
   "source": [
    "    t = driver.find_elements(By.CSS_SELECTOR, \"div[class ='b20td4e0 muag1w35']>div\")\n",
    "\n",
    "    print(len(t))\n",
    "    for i in range(len(t)):\n",
    "        print(f\" group {i+1}: {t[i].text}\")\n"
   ]
  },
  {
   "cell_type": "code",
   "execution_count": 181,
   "metadata": {},
   "outputs": [],
   "source": [
    "import emoji"
   ]
  },
  {
   "cell_type": "code",
   "execution_count": null,
   "metadata": {},
   "outputs": [],
   "source": [
    "grouplist\n",
    "\n",
    "g = grouplist[30]\n",
    "for i in g:\n",
    "    if (i in emoji.EMOJI_DATA):\n",
    "        print(f'This is an emoji {i}')\n",
    "    else:\n",
    "        print(\"nope\")"
   ]
  },
  {
   "cell_type": "code",
   "execution_count": 257,
   "metadata": {},
   "outputs": [],
   "source": [
    "\n",
    "def search(driver, gname, n):\n",
    "    time.sleep(2)\n",
    "    search = driver.find_element(By.CSS_SELECTOR, \"input[aria-label='Rechercher des groupes']\")\n",
    "    search.clear()\n",
    "    time.sleep(2)\n",
    "    search.send_keys(gname[n])\n",
    "    driver.find_elements(By.CSS_SELECTOR, \"div[class ='b20td4e0 muag1w35']>div\")\n"
   ]
  },
  {
   "cell_type": "code",
   "execution_count": 11,
   "metadata": {},
   "outputs": [],
   "source": [
    "def createpost(driver, descp):\n",
    "    content = driver.find_element(By.CSS_SELECTOR, \"div[aria-label='Créez une publication publique...'\")\n",
    "    if (content.text != \"\"):\n",
    "        time.sleep(2)\n",
    "        content.clear()\n",
    "        z = descp[random.randrange(0,len(descp)-1)]\n",
    "        print(z)\n",
    "        time.sleep(3)\n",
    "        content.send_keys(z)\n",
    "        #webdriver.ActionChains(driver).send_keys(descp[random.randrange(0,len(descp))])\n",
    "    else:\n",
    "        time.sleep(2)\n",
    "        content.send_keys(z)\n",
    "        #webdriver.ActionChains(driver).send_keys(descp[random.randrange(0,len(descp))])\n",
    "        ##content.send_keys(descp[random.randrange(0,len(descp))])\n",
    "\n"
   ]
  },
  {
   "cell_type": "code",
   "execution_count": 59,
   "metadata": {},
   "outputs": [],
   "source": [
    "def changeuser(driver):\n",
    "    time.sleep(4)\n",
    "    v = driver.find_element(By.TAG_NAME, \"html\")\n",
    "    v.send_keys(Keys.END)\n",
    "    time.sleep(2)\n",
    "    d = WebDriverWait(driver, 30).until(EC.element_to_be_clickable((By.CSS_SELECTOR,\"button[aria-label='Sélection du profil à utiliser']\")))\n",
    "    driver.find_element(By.CSS_SELECTOR,\"button[aria-label='Sélection du profil à utiliser']\").click()\n",
    "    #d.find_element(By.CSS_SELECTOR, \"button[aria-label='Sélection du profil à utiliser']\").click()\n",
    "    time.sleep(5)\n",
    "    driver.find_element(By. CSS_SELECTOR,  \"div[ class = 'j83agx80 cbu4d94t buofh1pr dd2scrzq srfxjet1']>div>div>div:nth-child(3)>div[role='menuitemradio']\").click()    \n",
    "    time.sleep(2)\n",
    "    #driver.find_element(By.CSS_SELECTOR, \"div[aria-label='Envoyez ceci à vos amis ou publiez-le sur votre journal.']\").click()\n",
    "\n",
    "    "
   ]
  },
  {
   "cell_type": "code",
   "execution_count": null,
   "metadata": {},
   "outputs": [],
   "source": [
    "changeuser(driver)"
   ]
  },
  {
   "cell_type": "code",
   "execution_count": 14,
   "metadata": {},
   "outputs": [],
   "source": [
    "def publish():\n",
    "    time.sleep(3)\n",
    "    driver.find_element(By.CSS_SELECTOR, \"div[aria-label='Publier'\").click()"
   ]
  },
  {
   "cell_type": "code",
   "execution_count": 15,
   "metadata": {},
   "outputs": [],
   "source": [
    "def productpost(driver, gname, descp):\n",
    "    for n in range(len(gname)):\n",
    "        changeuser(driver)\n",
    "        share(driver)\n",
    "        search(driver, gname, n)\n",
    "        createpost(driver,descp)\n"
   ]
  },
  {
   "cell_type": "code",
   "execution_count": 244,
   "metadata": {},
   "outputs": [],
   "source": [
    "driver = webdriver.Chrome('C:/Users/maglo/OneDrive/Documents/chromedriver.exe',options=chrome_options)"
   ]
  },
  {
   "cell_type": "code",
   "execution_count": 79,
   "metadata": {},
   "outputs": [
    {
     "ename": "NoSuchElementException",
     "evalue": "Message: no such element: Unable to locate element: {\"method\":\"css selector\",\"selector\":\"div[aria-label='Créez une publication publique...'\"}\n  (Session info: chrome=100.0.4896.88)\n",
     "output_type": "error",
     "traceback": [
      "\u001b[1;31m---------------------------------------------------------------------------\u001b[0m",
      "\u001b[1;31mNoSuchElementException\u001b[0m                    Traceback (most recent call last)",
      "\u001b[1;32mc:\\Users\\maglo\\OneDrive\\Documents\\CS\\MyProjects\\Python projects\\Web parser\\python scraper\\fb\\share.ipynb Cell 16'\u001b[0m in \u001b[0;36m<module>\u001b[1;34m\u001b[0m\n\u001b[0;32m      <a href='vscode-notebook-cell:/c%3A/Users/maglo/OneDrive/Documents/CS/MyProjects/Python%20projects/Web%20parser/python%20scraper/fb/share.ipynb#ch0000023?line=6'>7</a>\u001b[0m         driver\u001b[39m.\u001b[39mget(productLis[i])\n\u001b[0;32m      <a href='vscode-notebook-cell:/c%3A/Users/maglo/OneDrive/Documents/CS/MyProjects/Python%20projects/Web%20parser/python%20scraper/fb/share.ipynb#ch0000023?line=7'>8</a>\u001b[0m         \u001b[39mif\u001b[39;00m(checklink(productLis[i])):\n\u001b[1;32m----> <a href='vscode-notebook-cell:/c%3A/Users/maglo/OneDrive/Documents/CS/MyProjects/Python%20projects/Web%20parser/python%20scraper/fb/share.ipynb#ch0000023?line=8'>9</a>\u001b[0m             productpost(driver, gname, descp)\n\u001b[0;32m     <a href='vscode-notebook-cell:/c%3A/Users/maglo/OneDrive/Documents/CS/MyProjects/Python%20projects/Web%20parser/python%20scraper/fb/share.ipynb#ch0000023?line=9'>10</a>\u001b[0m \u001b[39melse\u001b[39;00m:\n\u001b[0;32m     <a href='vscode-notebook-cell:/c%3A/Users/maglo/OneDrive/Documents/CS/MyProjects/Python%20projects/Web%20parser/python%20scraper/fb/share.ipynb#ch0000023?line=10'>11</a>\u001b[0m     \u001b[39mprint\u001b[39m(\u001b[39m\"\u001b[39m\u001b[39mCould not login\u001b[39m\u001b[39m\"\u001b[39m)\n",
      "\u001b[1;32mc:\\Users\\maglo\\OneDrive\\Documents\\CS\\MyProjects\\Python projects\\Web parser\\python scraper\\fb\\share.ipynb Cell 14'\u001b[0m in \u001b[0;36mproductpost\u001b[1;34m(driver, gname, descp)\u001b[0m\n\u001b[0;32m      <a href='vscode-notebook-cell:/c%3A/Users/maglo/OneDrive/Documents/CS/MyProjects/Python%20projects/Web%20parser/python%20scraper/fb/share.ipynb#ch0000020?line=3'>4</a>\u001b[0m share(driver)\n\u001b[0;32m      <a href='vscode-notebook-cell:/c%3A/Users/maglo/OneDrive/Documents/CS/MyProjects/Python%20projects/Web%20parser/python%20scraper/fb/share.ipynb#ch0000020?line=4'>5</a>\u001b[0m search(driver, gname, n)\n\u001b[1;32m----> <a href='vscode-notebook-cell:/c%3A/Users/maglo/OneDrive/Documents/CS/MyProjects/Python%20projects/Web%20parser/python%20scraper/fb/share.ipynb#ch0000020?line=5'>6</a>\u001b[0m createpost(driver,descp)\n",
      "\u001b[1;32mc:\\Users\\maglo\\OneDrive\\Documents\\CS\\MyProjects\\Python projects\\Web parser\\python scraper\\fb\\share.ipynb Cell 10'\u001b[0m in \u001b[0;36mcreatepost\u001b[1;34m(driver, descp)\u001b[0m\n\u001b[0;32m      <a href='vscode-notebook-cell:/c%3A/Users/maglo/OneDrive/Documents/CS/MyProjects/Python%20projects/Web%20parser/python%20scraper/fb/share.ipynb#ch0000016?line=0'>1</a>\u001b[0m \u001b[39mdef\u001b[39;00m \u001b[39mcreatepost\u001b[39m(driver, descp):\n\u001b[1;32m----> <a href='vscode-notebook-cell:/c%3A/Users/maglo/OneDrive/Documents/CS/MyProjects/Python%20projects/Web%20parser/python%20scraper/fb/share.ipynb#ch0000016?line=1'>2</a>\u001b[0m     content \u001b[39m=\u001b[39m driver\u001b[39m.\u001b[39;49mfind_element(By\u001b[39m.\u001b[39;49mCSS_SELECTOR, \u001b[39m\"\u001b[39;49m\u001b[39mdiv[aria-label=\u001b[39;49m\u001b[39m'\u001b[39;49m\u001b[39mCréez une publication publique...\u001b[39;49m\u001b[39m'\u001b[39;49m\u001b[39m\"\u001b[39;49m)\n\u001b[0;32m      <a href='vscode-notebook-cell:/c%3A/Users/maglo/OneDrive/Documents/CS/MyProjects/Python%20projects/Web%20parser/python%20scraper/fb/share.ipynb#ch0000016?line=2'>3</a>\u001b[0m     \u001b[39mif\u001b[39;00m (content\u001b[39m.\u001b[39mtext \u001b[39m!=\u001b[39m \u001b[39m\"\u001b[39m\u001b[39m\"\u001b[39m):\n\u001b[0;32m      <a href='vscode-notebook-cell:/c%3A/Users/maglo/OneDrive/Documents/CS/MyProjects/Python%20projects/Web%20parser/python%20scraper/fb/share.ipynb#ch0000016?line=3'>4</a>\u001b[0m         time\u001b[39m.\u001b[39msleep(\u001b[39m2\u001b[39m)\n",
      "File \u001b[1;32m~\\miniconda3\\envs\\scraper\\lib\\site-packages\\selenium\\webdriver\\remote\\webdriver.py:976\u001b[0m, in \u001b[0;36mWebDriver.find_element\u001b[1;34m(self, by, value)\u001b[0m\n\u001b[0;32m    <a href='file:///c%3A/Users/maglo/miniconda3/envs/scraper/lib/site-packages/selenium/webdriver/remote/webdriver.py?line=973'>974</a>\u001b[0m         by \u001b[39m=\u001b[39m By\u001b[39m.\u001b[39mCSS_SELECTOR\n\u001b[0;32m    <a href='file:///c%3A/Users/maglo/miniconda3/envs/scraper/lib/site-packages/selenium/webdriver/remote/webdriver.py?line=974'>975</a>\u001b[0m         value \u001b[39m=\u001b[39m \u001b[39m'\u001b[39m\u001b[39m[name=\u001b[39m\u001b[39m\"\u001b[39m\u001b[39m%s\u001b[39;00m\u001b[39m\"\u001b[39m\u001b[39m]\u001b[39m\u001b[39m'\u001b[39m \u001b[39m%\u001b[39m value\n\u001b[1;32m--> <a href='file:///c%3A/Users/maglo/miniconda3/envs/scraper/lib/site-packages/selenium/webdriver/remote/webdriver.py?line=975'>976</a>\u001b[0m \u001b[39mreturn\u001b[39;00m \u001b[39mself\u001b[39;49m\u001b[39m.\u001b[39;49mexecute(Command\u001b[39m.\u001b[39;49mFIND_ELEMENT, {\n\u001b[0;32m    <a href='file:///c%3A/Users/maglo/miniconda3/envs/scraper/lib/site-packages/selenium/webdriver/remote/webdriver.py?line=976'>977</a>\u001b[0m     \u001b[39m'\u001b[39;49m\u001b[39musing\u001b[39;49m\u001b[39m'\u001b[39;49m: by,\n\u001b[0;32m    <a href='file:///c%3A/Users/maglo/miniconda3/envs/scraper/lib/site-packages/selenium/webdriver/remote/webdriver.py?line=977'>978</a>\u001b[0m     \u001b[39m'\u001b[39;49m\u001b[39mvalue\u001b[39;49m\u001b[39m'\u001b[39;49m: value})[\u001b[39m'\u001b[39m\u001b[39mvalue\u001b[39m\u001b[39m'\u001b[39m]\n",
      "File \u001b[1;32m~\\miniconda3\\envs\\scraper\\lib\\site-packages\\selenium\\webdriver\\remote\\webdriver.py:321\u001b[0m, in \u001b[0;36mWebDriver.execute\u001b[1;34m(self, driver_command, params)\u001b[0m\n\u001b[0;32m    <a href='file:///c%3A/Users/maglo/miniconda3/envs/scraper/lib/site-packages/selenium/webdriver/remote/webdriver.py?line=318'>319</a>\u001b[0m response \u001b[39m=\u001b[39m \u001b[39mself\u001b[39m\u001b[39m.\u001b[39mcommand_executor\u001b[39m.\u001b[39mexecute(driver_command, params)\n\u001b[0;32m    <a href='file:///c%3A/Users/maglo/miniconda3/envs/scraper/lib/site-packages/selenium/webdriver/remote/webdriver.py?line=319'>320</a>\u001b[0m \u001b[39mif\u001b[39;00m response:\n\u001b[1;32m--> <a href='file:///c%3A/Users/maglo/miniconda3/envs/scraper/lib/site-packages/selenium/webdriver/remote/webdriver.py?line=320'>321</a>\u001b[0m     \u001b[39mself\u001b[39;49m\u001b[39m.\u001b[39;49merror_handler\u001b[39m.\u001b[39;49mcheck_response(response)\n\u001b[0;32m    <a href='file:///c%3A/Users/maglo/miniconda3/envs/scraper/lib/site-packages/selenium/webdriver/remote/webdriver.py?line=321'>322</a>\u001b[0m     response[\u001b[39m'\u001b[39m\u001b[39mvalue\u001b[39m\u001b[39m'\u001b[39m] \u001b[39m=\u001b[39m \u001b[39mself\u001b[39m\u001b[39m.\u001b[39m_unwrap_value(\n\u001b[0;32m    <a href='file:///c%3A/Users/maglo/miniconda3/envs/scraper/lib/site-packages/selenium/webdriver/remote/webdriver.py?line=322'>323</a>\u001b[0m         response\u001b[39m.\u001b[39mget(\u001b[39m'\u001b[39m\u001b[39mvalue\u001b[39m\u001b[39m'\u001b[39m, \u001b[39mNone\u001b[39;00m))\n\u001b[0;32m    <a href='file:///c%3A/Users/maglo/miniconda3/envs/scraper/lib/site-packages/selenium/webdriver/remote/webdriver.py?line=323'>324</a>\u001b[0m     \u001b[39mreturn\u001b[39;00m response\n",
      "File \u001b[1;32m~\\miniconda3\\envs\\scraper\\lib\\site-packages\\selenium\\webdriver\\remote\\errorhandler.py:242\u001b[0m, in \u001b[0;36mErrorHandler.check_response\u001b[1;34m(self, response)\u001b[0m\n\u001b[0;32m    <a href='file:///c%3A/Users/maglo/miniconda3/envs/scraper/lib/site-packages/selenium/webdriver/remote/errorhandler.py?line=239'>240</a>\u001b[0m         alert_text \u001b[39m=\u001b[39m value[\u001b[39m'\u001b[39m\u001b[39malert\u001b[39m\u001b[39m'\u001b[39m]\u001b[39m.\u001b[39mget(\u001b[39m'\u001b[39m\u001b[39mtext\u001b[39m\u001b[39m'\u001b[39m)\n\u001b[0;32m    <a href='file:///c%3A/Users/maglo/miniconda3/envs/scraper/lib/site-packages/selenium/webdriver/remote/errorhandler.py?line=240'>241</a>\u001b[0m     \u001b[39mraise\u001b[39;00m exception_class(message, screen, stacktrace, alert_text)\n\u001b[1;32m--> <a href='file:///c%3A/Users/maglo/miniconda3/envs/scraper/lib/site-packages/selenium/webdriver/remote/errorhandler.py?line=241'>242</a>\u001b[0m \u001b[39mraise\u001b[39;00m exception_class(message, screen, stacktrace)\n",
      "\u001b[1;31mNoSuchElementException\u001b[0m: Message: no such element: Unable to locate element: {\"method\":\"css selector\",\"selector\":\"div[aria-label='Créez une publication publique...'\"}\n  (Session info: chrome=100.0.4896.88)\n"
     ]
    }
   ],
   "source": [
    "#main bot\n",
    "driver = webdriver.Chrome('C:/Users/maglo/OneDrive/Documents/chromedriver.exe',options=chrome_options)\n",
    "Log(driver)\n",
    "if (checklink(link)):\n",
    "    time.sleep(2)\n",
    "    for i in range(len(productLis)):\n",
    "        driver.get(productLis[i])\n",
    "        if(checklink(productLis[i])):\n",
    "            productpost(driver, gname, descp)\n",
    "else:\n",
    "    print(\"Could not login\")"
   ]
  },
  {
   "cell_type": "code",
   "execution_count": 47,
   "metadata": {},
   "outputs": [],
   "source": [
    "p  = driver.find_element(By. CSS_SELECTOR,  \"div[class ='tvfksri0 ozuftl9m']>div>div:nth-child(4)\")\n",
    "\n",
    "\n",
    "time.sleep(2)\n",
    "driver.find_element(By. CSS_SELECTOR,  \"div[ class = 'j83agx80 cbu4d94t buofh1pr dd2scrzq srfxjet1']>div>div>div:nth-child(3)>div[role='menuitemradio']\").click()\n"
   ]
  },
  {
   "cell_type": "code",
   "execution_count": 238,
   "metadata": {},
   "outputs": [
    {
     "data": {
      "text/plain": [
       "['https://facebook.com/story.php?story_fbid=163074876142690&id=101047079012137',\n",
       " 'https://facebook.com/story.php?story_fbid=163312619452249&id=101047079012137',\n",
       " 'https://facebook.com/story.php?story_fbid=163299339453577&id=101047079012137',\n",
       " 'https://facebook.com/story.php?story_fbid=163301649453346&id=101047079012137',\n",
       " 'https://facebook.com/story.php?story_fbid=163307819452729&id=101047079012137',\n",
       " 'https://facebook.com/story.php?story_fbid=163202182796626&id=101047079012137',\n",
       " 'https://facebook.com/story.php?story_fbid=163170099466501&id=101047079012137',\n",
       " 'https://facebook.com/story.php?story_fbid=163190889464422&id=101047079012137']"
      ]
     },
     "execution_count": 238,
     "metadata": {},
     "output_type": "execute_result"
    }
   ],
   "source": [
    "productLis"
   ]
  },
  {
   "cell_type": "code",
   "execution_count": 106,
   "metadata": {},
   "outputs": [
    {
     "data": {
      "text/plain": [
       "['Je suis chaud.\\nJe vends a Kinshasa et le prix est discutable.\\n@wearewepo',\n",
       " \"Produits originaux et des prix discutables. Jettez un coup d'oeil sur notre page WEPO pour plus de produits\",\n",
       " \"Vous cherchez des phones d'occasions et des prix discutables? Visitez notre page WEPO\",\n",
       " 'En savoir plus sur notre page WEPO. Produits dispo à Kin',\n",
       " 'Bonne qualité, bon prix. WEPO']"
      ]
     },
     "execution_count": 106,
     "metadata": {},
     "output_type": "execute_result"
    }
   ],
   "source": [
    "descp"
   ]
  },
  {
   "cell_type": "code",
   "execution_count": null,
   "metadata": {},
   "outputs": [],
   "source": []
  },
  {
   "cell_type": "code",
   "execution_count": 93,
   "metadata": {},
   "outputs": [],
   "source": [
    "webdriver.ActionChains(driver)"
   ]
  },
  {
   "cell_type": "code",
   "execution_count": 111,
   "metadata": {},
   "outputs": [],
   "source": []
  },
  {
   "cell_type": "code",
   "execution_count": 23,
   "metadata": {},
   "outputs": [],
   "source": [
    "import re"
   ]
  },
  {
   "cell_type": "code",
   "execution_count": 80,
   "metadata": {},
   "outputs": [
    {
     "data": {
      "text/html": [
       "<div>\n",
       "<style scoped>\n",
       "    .dataframe tbody tr th:only-of-type {\n",
       "        vertical-align: middle;\n",
       "    }\n",
       "\n",
       "    .dataframe tbody tr th {\n",
       "        vertical-align: top;\n",
       "    }\n",
       "\n",
       "    .dataframe thead th {\n",
       "        text-align: right;\n",
       "    }\n",
       "</style>\n",
       "<table border=\"1\" class=\"dataframe\">\n",
       "  <thead>\n",
       "    <tr style=\"text-align: right;\">\n",
       "      <th></th>\n",
       "      <th>names</th>\n",
       "    </tr>\n",
       "  </thead>\n",
       "  <tbody>\n",
       "    <tr>\n",
       "      <th>0</th>\n",
       "      <td>Teka somba en ligne</td>\n",
       "    </tr>\n",
       "    <tr>\n",
       "      <th>1</th>\n",
       "      <td>TEKA, SOMBA TSHOMBO NA PRIX MANGONDO �����</td>\n",
       "    </tr>\n",
       "    <tr>\n",
       "      <th>2</th>\n",
       "      <td>BILOKOS 💯 %⛸️🚔🛴🚲🚿🎹🎻</td>\n",
       "    </tr>\n",
       "    <tr>\n",
       "      <th>3</th>\n",
       "      <td>Teka pe Somba Nionso</td>\n",
       "    </tr>\n",
       "    <tr>\n",
       "      <th>4</th>\n",
       "      <td>RDC BUSINESS VENTE ET ACHAT EN LIGNE</td>\n",
       "    </tr>\n",
       "  </tbody>\n",
       "</table>\n",
       "</div>"
      ],
      "text/plain": [
       "                                        names\n",
       "0                         Teka somba en ligne\n",
       "1  TEKA, SOMBA TSHOMBO NA PRIX MANGONDO �����\n",
       "2                         BILOKOS 💯 %⛸️🚔🛴🚲🚿🎹🎻\n",
       "3                        Teka pe Somba Nionso\n",
       "4        RDC BUSINESS VENTE ET ACHAT EN LIGNE"
      ]
     },
     "execution_count": 80,
     "metadata": {},
     "output_type": "execute_result"
    }
   ],
   "source": [
    "df.head()"
   ]
  },
  {
   "cell_type": "code",
   "execution_count": 24,
   "metadata": {},
   "outputs": [],
   "source": [
    "emoji = re.compile(\"[\"\n",
    "    \"\\U0001F1E0-\\U0001F1FF\"  # flags (iOS)\n",
    "    \"\\U0001F300-\\U0001F5FF\"  # symbols & pictographs\n",
    "    \"\\U0001F600-\\U0001F64F\"  # emoticons\n",
    "    \"\\U0001F680-\\U0001F6FF\"  # transport & map symbols\n",
    "    \"\\U0001F700-\\U0001F77F\"  # alchemical symbols\n",
    "    \"\\U0001F780-\\U0001F7FF\"  # Geometric Shapes Extended\n",
    "    \"\\U0001F800-\\U0001F8FF\"  # Supplemental Arrows-C\n",
    "    \"\\U0001F900-\\U0001F9FF\"  # Supplemental Symbols and Pictographs\n",
    "    \"\\U0001FA00-\\U0001FA6F\"  # Chess Symbols\n",
    "    \"\\U0001FA70-\\U0001FAFF\"  # Symbols and Pictographs Extended-A\n",
    "    \"\\U00002702-\\U000027B0\"  # Dingbats\n",
    "    \"\\U000024C2-\\U0001F251\"\n",
    "    \"]+\", flags=re.UNICODE)\n",
    "\n"
   ]
  },
  {
   "cell_type": "code",
   "execution_count": null,
   "metadata": {},
   "outputs": [],
   "source": [
    "for i in df['names']:\n",
    "\n",
    "    print(emoji.sub(r'', i))"
   ]
  },
  {
   "cell_type": "code",
   "execution_count": 102,
   "metadata": {},
   "outputs": [
    {
     "name": "stdout",
     "output_type": "stream",
     "text": [
      "🉑\n"
     ]
    }
   ],
   "source": [
    "print(\"\\U0001F251\")"
   ]
  },
  {
   "cell_type": "code",
   "execution_count": 68,
   "metadata": {},
   "outputs": [
    {
     "name": "stdout",
     "output_type": "stream",
     "text": [
      "I\n",
      "There is no emoji in this sentence\n",
      " \n",
      "There is no emoji in this sentence\n",
      "a\n",
      "There is no emoji in this sentence\n",
      "m\n",
      "There is no emoji in this sentence\n",
      " \n",
      "There is no emoji in this sentence\n",
      "✨\n"
     ]
    }
   ],
   "source": [
    "a = \"I am ✨\"\n",
    "\n",
    "for s in a:\n",
    "    if s in EMOJI_DATA:\n",
    "        print(s)\n",
    "    else:\n",
    "        print(s)\n",
    "        print(\"There is no emoji in this sentence\")"
   ]
  },
  {
   "cell_type": "code",
   "execution_count": 105,
   "metadata": {},
   "outputs": [
    {
     "data": {
      "text/plain": [
       "b'\\\\u2728'"
      ]
     },
     "execution_count": 105,
     "metadata": {},
     "output_type": "execute_result"
    }
   ],
   "source": [
    "a ='✨'\n",
    "a.encode('unicode-escape')"
   ]
  },
  {
   "cell_type": "code",
   "execution_count": 6,
   "metadata": {},
   "outputs": [],
   "source": [
    "def show_name():\n",
    "    print(\"This computer belongs to Magloire Mukendi\")\n",
    "    print(\"Be careful\")"
   ]
  },
  {
   "cell_type": "code",
   "execution_count": 7,
   "metadata": {},
   "outputs": [
    {
     "name": "stdout",
     "output_type": "stream",
     "text": [
      "This computer belongs to Magloire Mukendi\n",
      "Be careful\n",
      "This computer belongs to Magloire Mukendi\n",
      "Be careful\n"
     ]
    },
    {
     "ename": "KeyboardInterrupt",
     "evalue": "",
     "output_type": "error",
     "traceback": [
      "\u001b[1;31m---------------------------------------------------------------------------\u001b[0m",
      "\u001b[1;31mKeyboardInterrupt\u001b[0m                         Traceback (most recent call last)",
      "\u001b[1;32mc:\\Users\\maglo\\OneDrive\\Documents\\CS\\MyProjects\\Python projects\\Web parser\\python scraper\\fb\\share.ipynb Cell 3'\u001b[0m in \u001b[0;36m<module>\u001b[1;34m\u001b[0m\n\u001b[0;32m      <a href='vscode-notebook-cell:/c%3A/Users/maglo/OneDrive/Documents/CS/MyProjects/Python%20projects/Web%20parser/python%20scraper/fb/share.ipynb#ch0000002?line=3'>4</a>\u001b[0m \u001b[39mwhile\u001b[39;00m(\u001b[39mTrue\u001b[39;00m):\n\u001b[0;32m      <a href='vscode-notebook-cell:/c%3A/Users/maglo/OneDrive/Documents/CS/MyProjects/Python%20projects/Web%20parser/python%20scraper/fb/share.ipynb#ch0000002?line=4'>5</a>\u001b[0m     schedule\u001b[39m.\u001b[39mrun_pending()\n\u001b[1;32m----> <a href='vscode-notebook-cell:/c%3A/Users/maglo/OneDrive/Documents/CS/MyProjects/Python%20projects/Web%20parser/python%20scraper/fb/share.ipynb#ch0000002?line=5'>6</a>\u001b[0m     time\u001b[39m.\u001b[39;49msleep(\u001b[39m1\u001b[39;49m)\n",
      "\u001b[1;31mKeyboardInterrupt\u001b[0m: "
     ]
    }
   ],
   "source": [
    "schedule.every(2).minutes.do(show_name)\n",
    "\n",
    "\n",
    "while(True):\n",
    "    schedule.run_pending()\n",
    "    time.sleep(1)"
   ]
  }
 ],
 "metadata": {
  "interpreter": {
   "hash": "24c4cfd38c48240475f237fce40144e0e9ef3e8792da9b0c1c107d7732638890"
  },
  "kernelspec": {
   "display_name": "Python 3.8.5 ('scraper')",
   "language": "python",
   "name": "python3"
  },
  "language_info": {
   "codemirror_mode": {
    "name": "ipython",
    "version": 3
   },
   "file_extension": ".py",
   "mimetype": "text/x-python",
   "name": "python",
   "nbconvert_exporter": "python",
   "pygments_lexer": "ipython3",
   "version": "3.8.5"
  },
  "orig_nbformat": 4
 },
 "nbformat": 4,
 "nbformat_minor": 2
}
