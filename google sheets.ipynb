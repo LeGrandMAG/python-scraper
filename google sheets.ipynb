{
 "cells": [
  {
   "cell_type": "code",
   "execution_count": 28,
   "id": "ccd4bbbb",
   "metadata": {},
   "outputs": [
    {
     "data": {
      "text/plain": [
       "dict_keys(['details4', 'details5', 'details6', 'details7', 'details8', 'details9', 'details10', 'details11', 'details12', 'details13', 'details14', 'details15', 'details16'])"
      ]
     },
     "execution_count": 28,
     "metadata": {},
     "output_type": "execute_result"
    }
   ],
   "source": [
    "import sys\n",
    "import numpy as np\n",
    "import pandas as pd\n",
    "import seaborn as sns\n",
    "import json\n",
    "\n",
    "\n"
   ]
  },
  {
   "cell_type": "code",
   "execution_count": 31,
   "id": "e8f53bc4",
   "metadata": {},
   "outputs": [
    {
     "data": {
      "text/plain": [
       "dict_keys(['details4', 'details5', 'details6', 'details7', 'details8', 'details9', 'details10', 'details11', 'details12', 'details13', 'details14', 'details15', 'details16'])"
      ]
     },
     "execution_count": 31,
     "metadata": {},
     "output_type": "execute_result"
    }
   ],
   "source": [
    "with open(\"data.json\") as jsonFile:\n",
    "    jsonObject = json.load(jsonFile)\n",
    "    jsonFile.close()\n",
    "\n",
    "jsonObject.keys()"
   ]
  },
  {
   "cell_type": "code",
   "execution_count": 89,
   "id": "131f086e",
   "metadata": {},
   "outputs": [
    {
     "name": "stdout",
     "output_type": "stream",
     "text": [
      "the length of details4 is 411\n",
      "the length of details5 is 440\n",
      "the length of details6 is 465\n",
      "the length of details7 is 510\n",
      "the length of details8 is 516\n",
      "the length of details9 is 109\n",
      "the length of details10 is 152\n",
      "the length of details11 is 291\n",
      "the length of details12 is 445\n",
      "the length of details13 is 488\n",
      "the length of details14 is 529\n",
      "the length of details15 is 561\n",
      "the length of details16 is 606\n",
      "[411, 440, 465, 510, 516, 109, 152, 291, 445, 488, 529, 561, 606]\n"
     ]
    }
   ],
   "source": [
    "lengthy = []\n",
    "\n",
    "for key in jsonObject:\n",
    "    print(\"the length of \"+ key+ \" is\",  len(jsonObject[key]))\n",
    "    if len(jsonObject) not in lengthy:\n",
    "        lengthy.append(len(jsonObject[key]))\n",
    "s=0\n",
    "for key in jsonObject:\n",
    "    \n",
    "    s += len(jsonObject[key])\n",
    "\n",
    "print(lengthy)"
   ]
  },
  {
   "cell_type": "code",
   "execution_count": 106,
   "id": "23d7c4f7",
   "metadata": {},
   "outputs": [
    {
     "name": "stdout",
     "output_type": "stream",
     "text": [
      "8\n",
      "8\n",
      "8\n",
      "8\n",
      "8\n",
      "8\n",
      "9\n",
      "9\n",
      "9\n",
      "9\n",
      "9\n",
      "9\n",
      "9\n"
     ]
    }
   ],
   "source": [
    "k = jsonObject.keys()\n",
    "\n",
    "for x in k:\n",
    "    print(len(x))\n",
    "\n",
    "\n"
   ]
  },
  {
   "cell_type": "code",
   "execution_count": 49,
   "id": "8bf5bb93",
   "metadata": {},
   "outputs": [
    {
     "ename": "TypeError",
     "evalue": "__init__() got an unexpected keyword argument 'lines'",
     "output_type": "error",
     "traceback": [
      "\u001b[1;31m---------------------------------------------------------------------------\u001b[0m",
      "\u001b[1;31mTypeError\u001b[0m                                 Traceback (most recent call last)",
      "\u001b[1;32m~\\AppData\\Local\\Temp/ipykernel_4036/2814063610.py\u001b[0m in \u001b[0;36m<module>\u001b[1;34m\u001b[0m\n\u001b[1;32m----> 1\u001b[1;33m \u001b[0mdf\u001b[0m \u001b[1;33m=\u001b[0m \u001b[0mpd\u001b[0m\u001b[1;33m.\u001b[0m\u001b[0mDataFrame\u001b[0m\u001b[1;33m(\u001b[0m\u001b[0mjsonObject\u001b[0m\u001b[1;33m,\u001b[0m \u001b[0mlines\u001b[0m\u001b[1;33m=\u001b[0m\u001b[1;32mTrue\u001b[0m\u001b[1;33m)\u001b[0m\u001b[1;33m\u001b[0m\u001b[1;33m\u001b[0m\u001b[0m\n\u001b[0m",
      "\u001b[1;31mTypeError\u001b[0m: __init__() got an unexpected keyword argument 'lines'"
     ]
    }
   ],
   "source": [
    "df = pd.DataFrame(jsonObject, lines=True)"
   ]
  }
 ],
 "metadata": {
  "kernelspec": {
   "display_name": "Python 3 (ipykernel)",
   "language": "python",
   "name": "python3"
  },
  "language_info": {
   "codemirror_mode": {
    "name": "ipython",
    "version": 3
   },
   "file_extension": ".py",
   "mimetype": "text/x-python",
   "name": "python",
   "nbconvert_exporter": "python",
   "pygments_lexer": "ipython3",
   "version": "3.9.7"
  }
 },
 "nbformat": 4,
 "nbformat_minor": 5
}
